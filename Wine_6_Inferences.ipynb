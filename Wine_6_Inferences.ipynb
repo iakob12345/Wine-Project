{
  "nbformat": 4,
  "nbformat_minor": 0,
  "metadata": {
    "colab": {
      "name": "Wine_6_Inferences.ipynb",
      "provenance": [],
      "collapsed_sections": [
        "l0zOiNw8jmC3"
      ],
      "authorship_tag": "ABX9TyN8rZmCVqafbZt5xreCcgi/",
      "include_colab_link": true
    },
    "kernelspec": {
      "name": "python3",
      "display_name": "Python 3"
    }
  },
  "cells": [
    {
      "cell_type": "markdown",
      "metadata": {
        "id": "view-in-github",
        "colab_type": "text"
      },
      "source": [
        "<a href=\"https://colab.research.google.com/github/iakob12345/Wine-Project/blob/master/Wine_6_Inferences.ipynb\" target=\"_parent\"><img src=\"https://colab.research.google.com/assets/colab-badge.svg\" alt=\"Open In Colab\"/></a>"
      ]
    },
    {
      "cell_type": "markdown",
      "metadata": {
        "id": "l0zOiNw8jmC3"
      },
      "source": [
        "# Introduction"
      ]
    },
    {
      "cell_type": "code",
      "metadata": {
        "colab": {
          "base_uri": "https://localhost:8080/"
        },
        "id": "92DYAH_02d1v",
        "outputId": "19f2c49f-04f5-443f-9b61-b3f3adf2d13f"
      },
      "source": [
        "import numpy as np\n",
        "import pandas as pd\n",
        "from google.colab import drive\n",
        "\n",
        "drive.mount('/content/drive/')\n",
        "path='/content/drive/My Drive/Colab Notebooks/winedata_df_after_statistically_significant_tests.pkl'\n",
        "\n",
        "# read cvs in Pandas\n",
        "winedata_df = pd.read_pickle(path)"
      ],
      "execution_count": null,
      "outputs": [
        {
          "output_type": "stream",
          "text": [
            "Mounted at /content/drive/\n"
          ],
          "name": "stdout"
        }
      ]
    },
    {
      "cell_type": "code",
      "metadata": {
        "colab": {
          "base_uri": "https://localhost:8080/",
          "height": 424
        },
        "id": "_q533Lhm3Y7s",
        "outputId": "b6740073-cbc2-4acf-86ae-6a5c99584a51"
      },
      "source": [
        "category_to_display = {\n",
        "        'Red-Low':'4. Red-Low (0-10€)',\n",
        "        'Red-Medium':'5. Red-Medium (10€ to 25€)',\n",
        "        'Red-Premium':'6. Red-Premium (25€ to 100€)',\n",
        "        'Red-Luxury':'7. Red-Luxury (100€ - ∞)',\n",
        "        'White-Low':'1. White-Low (0-10€)',\n",
        "        'White-Medium':'2. White-Medium (10€ to 25€)',\n",
        "        'White-Premium': '3. White-Premium (25€ to 100€)',\n",
        "        'Sparkling-Medium': '8. Sparkling-Medium (10€ to 25€)'}\n",
        "\n",
        "winedata_df['categories'] = winedata_df.category.map(category_to_display)\n",
        "winedata_df.rename(columns={'R_Z_scaling_factor':'scaled_rating'},inplace=True)\n",
        "winedata_df[['categories','category']]"
      ],
      "execution_count": null,
      "outputs": [
        {
          "output_type": "execute_result",
          "data": {
            "text/html": [
              "<div>\n",
              "<style scoped>\n",
              "    .dataframe tbody tr th:only-of-type {\n",
              "        vertical-align: middle;\n",
              "    }\n",
              "\n",
              "    .dataframe tbody tr th {\n",
              "        vertical-align: top;\n",
              "    }\n",
              "\n",
              "    .dataframe thead th {\n",
              "        text-align: right;\n",
              "    }\n",
              "</style>\n",
              "<table border=\"1\" class=\"dataframe\">\n",
              "  <thead>\n",
              "    <tr style=\"text-align: right;\">\n",
              "      <th></th>\n",
              "      <th>categories</th>\n",
              "      <th>category</th>\n",
              "    </tr>\n",
              "  </thead>\n",
              "  <tbody>\n",
              "    <tr>\n",
              "      <th>0</th>\n",
              "      <td>4. Red-Low (0-10€)</td>\n",
              "      <td>Red-Low</td>\n",
              "    </tr>\n",
              "    <tr>\n",
              "      <th>1</th>\n",
              "      <td>4. Red-Low (0-10€)</td>\n",
              "      <td>Red-Low</td>\n",
              "    </tr>\n",
              "    <tr>\n",
              "      <th>2</th>\n",
              "      <td>4. Red-Low (0-10€)</td>\n",
              "      <td>Red-Low</td>\n",
              "    </tr>\n",
              "    <tr>\n",
              "      <th>4</th>\n",
              "      <td>4. Red-Low (0-10€)</td>\n",
              "      <td>Red-Low</td>\n",
              "    </tr>\n",
              "    <tr>\n",
              "      <th>5</th>\n",
              "      <td>1. White-Low (0-10€)</td>\n",
              "      <td>White-Low</td>\n",
              "    </tr>\n",
              "    <tr>\n",
              "      <th>...</th>\n",
              "      <td>...</td>\n",
              "      <td>...</td>\n",
              "    </tr>\n",
              "    <tr>\n",
              "      <th>23447</th>\n",
              "      <td>6. Red-Premium (25€ to 100€)</td>\n",
              "      <td>Red-Premium</td>\n",
              "    </tr>\n",
              "    <tr>\n",
              "      <th>23449</th>\n",
              "      <td>3. White-Premium (25€ to 100€)</td>\n",
              "      <td>White-Premium</td>\n",
              "    </tr>\n",
              "    <tr>\n",
              "      <th>23450</th>\n",
              "      <td>3. White-Premium (25€ to 100€)</td>\n",
              "      <td>White-Premium</td>\n",
              "    </tr>\n",
              "    <tr>\n",
              "      <th>23452</th>\n",
              "      <td>6. Red-Premium (25€ to 100€)</td>\n",
              "      <td>Red-Premium</td>\n",
              "    </tr>\n",
              "    <tr>\n",
              "      <th>23453</th>\n",
              "      <td>3. White-Premium (25€ to 100€)</td>\n",
              "      <td>White-Premium</td>\n",
              "    </tr>\n",
              "  </tbody>\n",
              "</table>\n",
              "<p>18518 rows × 2 columns</p>\n",
              "</div>"
            ],
            "text/plain": [
              "                           categories       category\n",
              "0                  4. Red-Low (0-10€)        Red-Low\n",
              "1                  4. Red-Low (0-10€)        Red-Low\n",
              "2                  4. Red-Low (0-10€)        Red-Low\n",
              "4                  4. Red-Low (0-10€)        Red-Low\n",
              "5                1. White-Low (0-10€)      White-Low\n",
              "...                               ...            ...\n",
              "23447    6. Red-Premium (25€ to 100€)    Red-Premium\n",
              "23449  3. White-Premium (25€ to 100€)  White-Premium\n",
              "23450  3. White-Premium (25€ to 100€)  White-Premium\n",
              "23452    6. Red-Premium (25€ to 100€)    Red-Premium\n",
              "23453  3. White-Premium (25€ to 100€)  White-Premium\n",
              "\n",
              "[18518 rows x 2 columns]"
            ]
          },
          "metadata": {
            "tags": []
          },
          "execution_count": 2
        }
      ]
    },
    {
      "cell_type": "markdown",
      "metadata": {
        "id": "q8PxccIVjihl"
      },
      "source": [
        "#Final Results"
      ]
    },
    {
      "cell_type": "code",
      "metadata": {
        "colab": {
          "base_uri": "https://localhost:8080/"
        },
        "id": "z3QMPnygEBSU",
        "outputId": "e6c470df-e341-4b61-fca6-3ca55cd26417"
      },
      "source": [
        "winedata_categories = winedata_df.groupby(['categories','country'])\\\n",
        "                                 .agg(Count = ('link','size'), Rating = ('scaled_rating','mean'), Price = ('price','mean'), Value = ('value_scaled','mean'))\\\n",
        "                                 .reset_index()\\\n",
        "                                 .sort_values(by=['categories','Value'],ascending=[1,0])\\\n",
        "                                 .set_index(['categories','country'])\\\n",
        "                                 .round(1)\n",
        "                                 \n",
        "Message = 'Rating, Price and Value fields show averages \\n' + 'Also, Rating and Value fields are scaled as of the modeling in previous chapters \\n\\n' \n",
        "print(Message + \\\n",
        "      winedata_categories[['Rating','Price','Value','Count']].to_string())"
      ],
      "execution_count": null,
      "outputs": [
        {
          "output_type": "stream",
          "text": [
            "Rating, Price and Value fields show averages \n",
            "Also, Rating and Value fields are scaled as of the modeling in previous chapters \n",
            "\n",
            "                                                Rating  Price  Value  Count\n",
            "categories                       country                                   \n",
            "1. White-Low (0-10€)             Portugal          3.7    7.1   55.2    282\n",
            "                                 Spain             3.6    7.5   51.0    323\n",
            "                                 France            3.6    7.7   48.5    389\n",
            "                                 Italy             3.6    7.8   48.0    415\n",
            "                                 Argentina         3.5    7.7   46.7     73\n",
            "                                 Chile             3.4    7.8   45.6    143\n",
            "                                 Germany           3.6    8.5   43.8    270\n",
            "                                 Australia         3.4    8.1   42.8     59\n",
            "                                 Austria           3.6    8.7   41.4    128\n",
            "2. White-Medium (10€ to 25€)     Spain             3.9   15.1   27.6    299\n",
            "                                 Argentina         3.7   14.1   27.2     66\n",
            "                                 Portugal          3.8   15.2   26.8    247\n",
            "                                 Chile             3.6   14.2   26.2     82\n",
            "                                 Germany           3.6   15.6   24.4    714\n",
            "                                 Italy             3.8   16.4   24.4    872\n",
            "                                 United States     3.7   16.4   24.3    188\n",
            "                                 France            3.7   16.4   24.0    684\n",
            "                                 Austria           3.5   15.8   23.3    454\n",
            "                                 Australia         3.5   15.9   22.9     80\n",
            "3. White-Premium (25€ to 100€)   Portugal          4.2   39.4   11.8     65\n",
            "                                 Spain             4.2   39.0   11.8     76\n",
            "                                 Italy             4.2   39.6   11.5    310\n",
            "                                 Germany           3.7   40.5   10.0    328\n",
            "                                 Austria           3.6   39.8   10.0    288\n",
            "                                 United States     4.0   46.4    9.7    205\n",
            "                                 France            4.0   52.4    8.8    610\n",
            "4. Red-Low (0-10€)               Portugal          3.7    7.4   55.0    274\n",
            "                                 Italy             3.6    7.8   48.2    875\n",
            "                                 Spain             3.5    7.6   48.2    453\n",
            "                                 Argentina         3.6    8.0   47.1    114\n",
            "                                 Chile             3.5    8.1   44.6    329\n",
            "                                 France            3.4    8.0   44.0    890\n",
            "                                 Australia         3.3    8.0   43.6    130\n",
            "                                 Germany           3.3    8.0   43.1    127\n",
            "                                 Austria           3.4    8.7   39.7    101\n",
            "5. Red-Medium (10€ to 25€)       United States     4.2   15.6   28.1     76\n",
            "                                 Argentina         4.0   15.5   27.2    176\n",
            "                                 Portugal          3.9   16.0   25.8    273\n",
            "                                 Chile             3.7   15.1   25.6    356\n",
            "                                 Spain             3.9   16.6   24.6    618\n",
            "                                 Italy             3.7   16.1   24.4   1232\n",
            "                                 Austria           3.4   15.9   23.0    359\n",
            "                                 Germany           3.4   15.9   22.6    319\n",
            "                                 France            3.6   16.7   22.5    979\n",
            "                                 Australia         3.5   17.3   21.5    364\n",
            "6. Red-Premium (25€ to 100€)     United States     4.5   47.5   10.8     67\n",
            "                                 Chile             4.1   49.0    9.7    142\n",
            "                                 Austria           3.7   45.2    9.0    270\n",
            "                                 Australia         3.9   50.0    8.8    347\n",
            "                                 France            3.9   54.5    8.1   1073\n",
            "8. Sparkling-Medium (10€ to 25€) Italy             3.8   15.6   26.1    362\n",
            "                                 Spain             3.5   14.9   24.9    296\n",
            "                                 Portugal          3.5   16.4   22.8     56\n",
            "                                 Germany           3.4   15.7   22.6    145\n",
            "                                 Austria           3.4   17.0   21.4     65\n"
          ],
          "name": "stdout"
        }
      ]
    }
  ]
}