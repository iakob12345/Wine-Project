{
  "nbformat": 4,
  "nbformat_minor": 0,
  "metadata": {
    "colab": {
      "name": "Wine_2_Data_Wrangling.ipynb",
      "provenance": [],
      "collapsed_sections": [
        "kyklIgYqAY7G",
        "Ni_S4vaayuug",
        "5-JTWPbEbuId",
        "sn_6J9Z3Asp_",
        "0NLDjX7HA4gY",
        "EVNUOqsQBJlg",
        "z54QY6wCCkV8",
        "yO2OFMvjC0ta",
        "EIj43pOQBc-4",
        "t7sbChMzBXOs",
        "cLo9pal5eExZ",
        "AAJbigqPDlYo",
        "TF3W7emyDp0h",
        "aH7ND3HSD_m8",
        "Q9I8_GD5EGuV",
        "OXxa07-yEJ61",
        "asZbaepsEheK",
        "PvIJLfjMhAPm",
        "1QMS8p4UbAoI",
        "ndZkBv5BblQ6",
        "tDfJMMnV3waz",
        "8E0YvqHiI2Yt",
        "eqlygP3ZrynA",
        "daeKP5M2UXun",
        "7y1eN32TafQa"
      ],
      "include_colab_link": true
    },
    "kernelspec": {
      "name": "python3",
      "display_name": "Python 3"
    }
  },
  "cells": [
    {
      "cell_type": "markdown",
      "metadata": {
        "id": "view-in-github",
        "colab_type": "text"
      },
      "source": [
        "<a href=\"https://colab.research.google.com/github/iakob12345/test/blob/master/Wine_2_Data_Wrangling.ipynb\" target=\"_parent\"><img src=\"https://colab.research.google.com/assets/colab-badge.svg\" alt=\"Open In Colab\"/></a>"
      ]
    },
    {
      "cell_type": "markdown",
      "metadata": {
        "id": "3bC7Fsvw8ueA"
      },
      "source": [
        "# **1.Introduction**"
      ]
    },
    {
      "cell_type": "markdown",
      "metadata": {
        "id": "kyklIgYqAY7G"
      },
      "source": [
        "##1.1.Importing Libraries"
      ]
    },
    {
      "cell_type": "code",
      "metadata": {
        "colab": {
          "base_uri": "https://localhost:8080/"
        },
        "id": "zX6jvB4DItVW",
        "outputId": "d7733402-1f76-4111-a293-6bc618bf0790"
      },
      "source": [
        "!pip install pycountry"
      ],
      "execution_count": null,
      "outputs": [
        {
          "output_type": "stream",
          "text": [
            "Collecting pycountry\n",
            "\u001b[?25l  Downloading https://files.pythonhosted.org/packages/76/73/6f1a412f14f68c273feea29a6ea9b9f1e268177d32e0e69ad6790d306312/pycountry-20.7.3.tar.gz (10.1MB)\n",
            "\u001b[K     |████████████████████████████████| 10.1MB 5.9MB/s \n",
            "\u001b[?25hBuilding wheels for collected packages: pycountry\n",
            "  Building wheel for pycountry (setup.py) ... \u001b[?25l\u001b[?25hdone\n",
            "  Created wheel for pycountry: filename=pycountry-20.7.3-py2.py3-none-any.whl size=10746863 sha256=5a9c395e0f2e31ae6634390ff1edd7efb53bead12fe324282035f5524121ceb8\n",
            "  Stored in directory: /root/.cache/pip/wheels/33/4e/a6/be297e6b83567e537bed9df4a93f8590ec01c1acfbcd405348\n",
            "Successfully built pycountry\n",
            "Installing collected packages: pycountry\n",
            "Successfully installed pycountry-20.7.3\n"
          ],
          "name": "stdout"
        }
      ]
    },
    {
      "cell_type": "code",
      "metadata": {
        "id": "8qwWPEqEiONM",
        "colab": {
          "base_uri": "https://localhost:8080/"
        },
        "outputId": "9b04f261-c752-45c4-f629-b7ccb93bec3c"
      },
      "source": [
        "%matplotlib inline\n",
        "from scipy import stats\n",
        "import pandas as pd\n",
        "import seaborn as sns\n",
        "import numpy as np\n",
        "from numpy import arange\n",
        "import matplotlib.pyplot as plt\n",
        "from google.colab import drive\n",
        "from plotly import graph_objs as go\n",
        "import plotly.figure_factory as ff\n",
        "import pycountry\n",
        "\n",
        "drive.mount('/content/drive/')\n",
        "\n",
        "path='/content/drive/My Drive/Colab Notebooks/Wine_dataset.csv'\n",
        "\n",
        "# read cvs in Pandas\n",
        "winedata_df = pd.read_csv(path)"
      ],
      "execution_count": null,
      "outputs": [
        {
          "output_type": "stream",
          "text": [
            "Mounted at /content/drive/\n"
          ],
          "name": "stdout"
        }
      ]
    },
    {
      "cell_type": "markdown",
      "metadata": {
        "id": "Ni_S4vaayuug"
      },
      "source": [
        "## Data Introduction"
      ]
    },
    {
      "cell_type": "code",
      "metadata": {
        "id": "yGraUp8R8t-R",
        "colab": {
          "base_uri": "https://localhost:8080/",
          "height": 293
        },
        "outputId": "13ef6967-df42-4439-c8fe-27457f8fd4d2"
      },
      "source": [
        "winedata_df.head(5)"
      ],
      "execution_count": null,
      "outputs": [
        {
          "output_type": "execute_result",
          "data": {
            "text/html": [
              "<div>\n",
              "<style scoped>\n",
              "    .dataframe tbody tr th:only-of-type {\n",
              "        vertical-align: middle;\n",
              "    }\n",
              "\n",
              "    .dataframe tbody tr th {\n",
              "        vertical-align: top;\n",
              "    }\n",
              "\n",
              "    .dataframe thead th {\n",
              "        text-align: right;\n",
              "    }\n",
              "</style>\n",
              "<table border=\"1\" class=\"dataframe\">\n",
              "  <thead>\n",
              "    <tr style=\"text-align: right;\">\n",
              "      <th></th>\n",
              "      <th>catalog</th>\n",
              "      <th>wineries</th>\n",
              "      <th>wine_names</th>\n",
              "      <th>countries</th>\n",
              "      <th>regions</th>\n",
              "      <th>prices</th>\n",
              "      <th>rating_avgs</th>\n",
              "      <th>total_reviews</th>\n",
              "      <th>link_wines</th>\n",
              "    </tr>\n",
              "  </thead>\n",
              "  <tbody>\n",
              "    <tr>\n",
              "      <th>0</th>\n",
              "      <td>white_usa</td>\n",
              "      <td>Charles Smith</td>\n",
              "      <td>Kung Fu Girl Riesling 2017</td>\n",
              "      <td>Vereinigte Staaten</td>\n",
              "      <td>Ancient Lakes of Columbia Valley</td>\n",
              "      <td>16.92</td>\n",
              "      <td>3.8</td>\n",
              "      <td>5585</td>\n",
              "      <td>https://www.vivino.com/charles-smith-kung-fu-g...</td>\n",
              "    </tr>\n",
              "    <tr>\n",
              "      <th>1</th>\n",
              "      <td>white_usa</td>\n",
              "      <td>Charles Smith</td>\n",
              "      <td>Kung Fu Girl Riesling 2015</td>\n",
              "      <td>Vereinigte Staaten</td>\n",
              "      <td>Ancient Lakes of Columbia Valley</td>\n",
              "      <td>16.92</td>\n",
              "      <td>3.8</td>\n",
              "      <td>4555</td>\n",
              "      <td>https://www.vivino.com/charles-smith-kung-fu-g...</td>\n",
              "    </tr>\n",
              "    <tr>\n",
              "      <th>2</th>\n",
              "      <td>white_usa</td>\n",
              "      <td>Chateau Ste. Michelle</td>\n",
              "      <td>Riesling 2015</td>\n",
              "      <td>Vereinigte Staaten</td>\n",
              "      <td>Columbia Valley</td>\n",
              "      <td>10.72</td>\n",
              "      <td>3.8</td>\n",
              "      <td>3856</td>\n",
              "      <td>https://www.vivino.com/chateau-ste-michelle-ri...</td>\n",
              "    </tr>\n",
              "    <tr>\n",
              "      <th>3</th>\n",
              "      <td>white_usa</td>\n",
              "      <td>Kendall-Jackson</td>\n",
              "      <td>Vintner's Reserve Chardonnay 2017</td>\n",
              "      <td>Vereinigte Staaten</td>\n",
              "      <td>California</td>\n",
              "      <td>20.70</td>\n",
              "      <td>3.8</td>\n",
              "      <td>3379</td>\n",
              "      <td>https://www.vivino.com/kendall-jackson-vintner...</td>\n",
              "    </tr>\n",
              "    <tr>\n",
              "      <th>4</th>\n",
              "      <td>white_usa</td>\n",
              "      <td>Wente</td>\n",
              "      <td>Morning Fog Chardonnay 2016</td>\n",
              "      <td>Vereinigte Staaten</td>\n",
              "      <td>Livermore Valley</td>\n",
              "      <td>14.59</td>\n",
              "      <td>3.9</td>\n",
              "      <td>3307</td>\n",
              "      <td>https://www.vivino.com/wente-vineyards-morning...</td>\n",
              "    </tr>\n",
              "  </tbody>\n",
              "</table>\n",
              "</div>"
            ],
            "text/plain": [
              "     catalog  ...                                         link_wines\n",
              "0  white_usa  ...  https://www.vivino.com/charles-smith-kung-fu-g...\n",
              "1  white_usa  ...  https://www.vivino.com/charles-smith-kung-fu-g...\n",
              "2  white_usa  ...  https://www.vivino.com/chateau-ste-michelle-ri...\n",
              "3  white_usa  ...  https://www.vivino.com/kendall-jackson-vintner...\n",
              "4  white_usa  ...  https://www.vivino.com/wente-vineyards-morning...\n",
              "\n",
              "[5 rows x 9 columns]"
            ]
          },
          "metadata": {
            "tags": []
          },
          "execution_count": 3
        }
      ]
    },
    {
      "cell_type": "code",
      "metadata": {
        "colab": {
          "base_uri": "https://localhost:8080/"
        },
        "id": "DjlxTGSoy1KA",
        "outputId": "94e40e12-711c-4ecf-cea2-5910d0f8691d"
      },
      "source": [
        "winedata_df.shape"
      ],
      "execution_count": null,
      "outputs": [
        {
          "output_type": "execute_result",
          "data": {
            "text/plain": [
              "(27745, 9)"
            ]
          },
          "metadata": {
            "tags": []
          },
          "execution_count": 4
        }
      ]
    },
    {
      "cell_type": "code",
      "metadata": {
        "colab": {
          "base_uri": "https://localhost:8080/",
          "height": 363
        },
        "id": "sTx2McSay2xL",
        "outputId": "1a550a66-d63e-435f-d69c-299e7f53fc74"
      },
      "source": [
        "#catalog is a weak, user-inputted dimension, which will be redefined below by stronger datapoints\n",
        "winedata_df.groupby(by='catalog')['link_wines'].agg(count='count').reset_index().sort_values(by='count',ascending=False).head(10)"
      ],
      "execution_count": null,
      "outputs": [
        {
          "output_type": "execute_result",
          "data": {
            "text/html": [
              "<div>\n",
              "<style scoped>\n",
              "    .dataframe tbody tr th:only-of-type {\n",
              "        vertical-align: middle;\n",
              "    }\n",
              "\n",
              "    .dataframe tbody tr th {\n",
              "        vertical-align: top;\n",
              "    }\n",
              "\n",
              "    .dataframe thead th {\n",
              "        text-align: right;\n",
              "    }\n",
              "</style>\n",
              "<table border=\"1\" class=\"dataframe\">\n",
              "  <thead>\n",
              "    <tr style=\"text-align: right;\">\n",
              "      <th></th>\n",
              "      <th>catalog</th>\n",
              "      <th>count</th>\n",
              "    </tr>\n",
              "  </thead>\n",
              "  <tbody>\n",
              "    <tr>\n",
              "      <th>1</th>\n",
              "      <td>Rose</td>\n",
              "      <td>1595</td>\n",
              "    </tr>\n",
              "    <tr>\n",
              "      <th>28</th>\n",
              "      <td>sparkling_spain</td>\n",
              "      <td>1104</td>\n",
              "    </tr>\n",
              "    <tr>\n",
              "      <th>3</th>\n",
              "      <td>red_australia</td>\n",
              "      <td>975</td>\n",
              "    </tr>\n",
              "    <tr>\n",
              "      <th>17</th>\n",
              "      <td>red_spain_high</td>\n",
              "      <td>950</td>\n",
              "    </tr>\n",
              "    <tr>\n",
              "      <th>13</th>\n",
              "      <td>red_italy_low</td>\n",
              "      <td>925</td>\n",
              "    </tr>\n",
              "    <tr>\n",
              "      <th>24</th>\n",
              "      <td>sparkling_france</td>\n",
              "      <td>925</td>\n",
              "    </tr>\n",
              "    <tr>\n",
              "      <th>7</th>\n",
              "      <td>red_france_low</td>\n",
              "      <td>925</td>\n",
              "    </tr>\n",
              "    <tr>\n",
              "      <th>41</th>\n",
              "      <td>white_italy_medium_high</td>\n",
              "      <td>923</td>\n",
              "    </tr>\n",
              "    <tr>\n",
              "      <th>33</th>\n",
              "      <td>white_austria</td>\n",
              "      <td>900</td>\n",
              "    </tr>\n",
              "    <tr>\n",
              "      <th>10</th>\n",
              "      <td>red_france_vip</td>\n",
              "      <td>900</td>\n",
              "    </tr>\n",
              "  </tbody>\n",
              "</table>\n",
              "</div>"
            ],
            "text/plain": [
              "                    catalog  count\n",
              "1                      Rose   1595\n",
              "28          sparkling_spain   1104\n",
              "3             red_australia    975\n",
              "17           red_spain_high    950\n",
              "13            red_italy_low    925\n",
              "24         sparkling_france    925\n",
              "7            red_france_low    925\n",
              "41  white_italy_medium_high    923\n",
              "33            white_austria    900\n",
              "10           red_france_vip    900"
            ]
          },
          "metadata": {
            "tags": []
          },
          "execution_count": 5
        }
      ]
    },
    {
      "cell_type": "markdown",
      "metadata": {
        "id": "5-JTWPbEbuId"
      },
      "source": [
        "# **2.Data validation**"
      ]
    },
    {
      "cell_type": "markdown",
      "metadata": {
        "id": "eReC7fflk6N4"
      },
      "source": [
        "Before we proceed, first we want to check if the scraper actually performed its job as intended and collected the correct information. For this, we will take **stratified data samples** based on price groups and then manually cross-check the data between the scraped file and the website.\n"
      ]
    },
    {
      "cell_type": "code",
      "metadata": {
        "id": "X0BjZyC_bs11",
        "colab": {
          "base_uri": "https://localhost:8080/",
          "height": 276
        },
        "outputId": "09e18c76-dd79-48d9-ebea-1fe6cec0c429"
      },
      "source": [
        "pd.set_option('display.max_colwidth', -1)\n",
        "\n",
        "#creating a list of dictionaries where the key is price and the value is link\n",
        "\n",
        "stratum_popular = winedata_df[winedata_df['prices'] <= 10]\n",
        "stratum_popular_premium = winedata_df[(winedata_df['prices'] <= 50) & (winedata_df['prices'] > 10)]\n",
        "stratum_premium = winedata_df[(winedata_df['prices'] <= 100) & (winedata_df['prices'] > 50)]\n",
        "stratum_luxury = winedata_df[(winedata_df['prices'] <= 500) & (winedata_df['prices'] > 100)]\n",
        "stratum_super_luxury = winedata_df[(winedata_df['prices'] <= 5000) & (winedata_df['prices'] > 500)]\n",
        "stratum_icon = winedata_df[winedata_df['prices'] > 5000]\n",
        "list_stratums = [stratum_popular,stratum_popular_premium,stratum_premium,stratum_luxury,stratum_super_luxury,stratum_icon]\n",
        "\n",
        "stratified_sampling_list = []\n",
        "\n",
        "for stratum in list_stratums:\n",
        "  stratum = stratum[['prices','countries','rating_avgs','total_reviews','link_wines']].sample(10,random_state=0)\n",
        "  stratified_sampling_list.append(stratum)\n",
        "\n",
        "stratified_sampling_df = pd.concat(stratified_sampling_list)\n",
        "stratified_sampling_df.head(5)"
      ],
      "execution_count": null,
      "outputs": [
        {
          "output_type": "stream",
          "text": [
            "/usr/local/lib/python3.7/dist-packages/ipykernel_launcher.py:1: FutureWarning:\n",
            "\n",
            "Passing a negative integer is deprecated in version 1.0 and will not be supported in future version. Instead, use None to not limit the column width.\n",
            "\n"
          ],
          "name": "stderr"
        },
        {
          "output_type": "execute_result",
          "data": {
            "text/html": [
              "<div>\n",
              "<style scoped>\n",
              "    .dataframe tbody tr th:only-of-type {\n",
              "        vertical-align: middle;\n",
              "    }\n",
              "\n",
              "    .dataframe tbody tr th {\n",
              "        vertical-align: top;\n",
              "    }\n",
              "\n",
              "    .dataframe thead th {\n",
              "        text-align: right;\n",
              "    }\n",
              "</style>\n",
              "<table border=\"1\" class=\"dataframe\">\n",
              "  <thead>\n",
              "    <tr style=\"text-align: right;\">\n",
              "      <th></th>\n",
              "      <th>prices</th>\n",
              "      <th>countries</th>\n",
              "      <th>rating_avgs</th>\n",
              "      <th>total_reviews</th>\n",
              "      <th>link_wines</th>\n",
              "    </tr>\n",
              "  </thead>\n",
              "  <tbody>\n",
              "    <tr>\n",
              "      <th>13386</th>\n",
              "      <td>8.45</td>\n",
              "      <td>Österreich</td>\n",
              "      <td>3.7</td>\n",
              "      <td>72</td>\n",
              "      <td>https://www.vivino.com/weingut-fred-loimer-rose/w/1654412?year=2018&amp;price_id=20696080</td>\n",
              "    </tr>\n",
              "    <tr>\n",
              "      <th>13065</th>\n",
              "      <td>7.95</td>\n",
              "      <td>Italien</td>\n",
              "      <td>3.7</td>\n",
              "      <td>251</td>\n",
              "      <td>https://www.vivino.com/collefrisio-rose-vino-da-tavola/w/4437725?year=N.V.&amp;price_id=19403690</td>\n",
              "    </tr>\n",
              "    <tr>\n",
              "      <th>14125</th>\n",
              "      <td>8.85</td>\n",
              "      <td>Spanien</td>\n",
              "      <td>3.9</td>\n",
              "      <td>634</td>\n",
              "      <td>https://www.vivino.com/borsao-crianza-seleccion-crianza/w/1289492?year=2014&amp;price_id=20134405</td>\n",
              "    </tr>\n",
              "    <tr>\n",
              "      <th>466</th>\n",
              "      <td>9.59</td>\n",
              "      <td>Vereinigte Staaten</td>\n",
              "      <td>3.5</td>\n",
              "      <td>31</td>\n",
              "      <td>https://www.vivino.com/crane-lake-chardonnay/w/87405?year=2018&amp;price_id=20737673</td>\n",
              "    </tr>\n",
              "    <tr>\n",
              "      <th>5614</th>\n",
              "      <td>6.50</td>\n",
              "      <td>Frankreich</td>\n",
              "      <td>3.6</td>\n",
              "      <td>397</td>\n",
              "      <td>https://www.vivino.com/les-jamelles-viognier/w/10552?year=2017&amp;price_id=17244555</td>\n",
              "    </tr>\n",
              "  </tbody>\n",
              "</table>\n",
              "</div>"
            ],
            "text/plain": [
              "       prices  ...                                                                                     link_wines\n",
              "13386  8.45    ...  https://www.vivino.com/weingut-fred-loimer-rose/w/1654412?year=2018&price_id=20696080        \n",
              "13065  7.95    ...  https://www.vivino.com/collefrisio-rose-vino-da-tavola/w/4437725?year=N.V.&price_id=19403690 \n",
              "14125  8.85    ...  https://www.vivino.com/borsao-crianza-seleccion-crianza/w/1289492?year=2014&price_id=20134405\n",
              "466    9.59    ...  https://www.vivino.com/crane-lake-chardonnay/w/87405?year=2018&price_id=20737673             \n",
              "5614   6.50    ...  https://www.vivino.com/les-jamelles-viognier/w/10552?year=2017&price_id=17244555             \n",
              "\n",
              "[5 rows x 5 columns]"
            ]
          },
          "metadata": {
            "tags": []
          },
          "execution_count": 6
        }
      ]
    },
    {
      "cell_type": "markdown",
      "metadata": {
        "id": "4B1gY6htYgkL"
      },
      "source": [
        "Right after the scraper finished its job, we doublechecked these sample elements by hand and all **wine catalogs on the website showed the same information as on the collected file**. Therefore, we concluded that scraper did its job properly and brought the right information. \n",
        "\n",
        "Please note that reviews,ratings and prices change slightly over time and when you view this file it might be different. This analysis is based on the information as of 25th of April, 2020."
      ]
    },
    {
      "cell_type": "markdown",
      "metadata": {
        "id": "QONDwdcP9tlm"
      },
      "source": [
        "# **3.Data Tidying**"
      ]
    },
    {
      "cell_type": "markdown",
      "metadata": {
        "id": "sn_6J9Z3Asp_"
      },
      "source": [
        "##3.1.Extracting Wine Type"
      ]
    },
    {
      "cell_type": "markdown",
      "metadata": {
        "id": "JDuaPmkkpFkM"
      },
      "source": [
        "The first column 'catalog' contains a concatenated value of **wine type** with other parameters. I will extract wine type and store it as a separate column since this is a crucial information for the further analysis."
      ]
    },
    {
      "cell_type": "code",
      "metadata": {
        "id": "BlUY-TWNyKUy",
        "colab": {
          "base_uri": "https://localhost:8080/"
        },
        "outputId": "1eabb8b2-5f92-4e60-9d69-6715778e6c83"
      },
      "source": [
        "#the first column contains concatenation values of wine type and country. I will extract the 'Wine type' from this column\n",
        "\n",
        "def extract_wine_type(element):\n",
        "  element = str(element)\n",
        "  element = element.split(\"_\")\n",
        "  element = element[0]\n",
        "  return element\n",
        "  \n",
        "winedata_df['wine_type'] = winedata_df['catalog'].map(extract_wine_type)\n",
        "winedata_df['wine_type'] = winedata_df['wine_type'].str.lower()\n",
        "\n",
        "print(winedata_df['wine_type'].value_counts(dropna=False))"
      ],
      "execution_count": null,
      "outputs": [
        {
          "output_type": "stream",
          "text": [
            "red          13231\n",
            "white        8668 \n",
            "sparkling    3501 \n",
            "rose         1595 \n",
            "dessert      750  \n",
            "Name: wine_type, dtype: int64\n"
          ],
          "name": "stdout"
        }
      ]
    },
    {
      "cell_type": "markdown",
      "metadata": {
        "id": "0NLDjX7HA4gY"
      },
      "source": [
        "##3.2.Mapping price to price buckets"
      ]
    },
    {
      "cell_type": "markdown",
      "metadata": {
        "id": "V7Hef-poNg72"
      },
      "source": [
        "Next, mapping individual wine prices to price buckets:\n",
        "  \n",
        "*   Less than 10 euros --> 'Low'\n",
        "*   Between 10 and 25 --> 'Medium'\n",
        "*   Between 25 and 100 --> 'Premium'\n",
        "*   More than 100 --> 'Luxury'  "
      ]
    },
    {
      "cell_type": "code",
      "metadata": {
        "id": "FRMRLvXT8NYr",
        "colab": {
          "base_uri": "https://localhost:8080/"
        },
        "outputId": "bca2b458-2c35-4b0d-cac0-0c77534aad44"
      },
      "source": [
        "def price_buckets(element):\n",
        "  if element <= 10:\n",
        "    return \"Low\"\n",
        "  elif element>10 and element<=25:\n",
        "    return \"Medium\"\n",
        "  elif element>25 and element<=100:\n",
        "    return \"Premium\"\n",
        "  elif element>100:\n",
        "    return \"Luxury\"\n",
        "\n",
        "winedata_df['price_category'] = winedata_df['prices'].map(price_buckets)\n",
        "winedata_df['price_category'].value_counts()"
      ],
      "execution_count": null,
      "outputs": [
        {
          "output_type": "execute_result",
          "data": {
            "text/plain": [
              "Medium     11037\n",
              "Low        7344 \n",
              "Premium    7067 \n",
              "Luxury     1873 \n",
              "Name: price_category, dtype: int64"
            ]
          },
          "metadata": {
            "tags": []
          },
          "execution_count": 8
        }
      ]
    },
    {
      "cell_type": "markdown",
      "metadata": {
        "id": "EVNUOqsQBJlg"
      },
      "source": [
        "##3.3.Deriving 'Value' column"
      ]
    },
    {
      "cell_type": "markdown",
      "metadata": {
        "id": "oqUssvIUpasA"
      },
      "source": [
        "Next, deriving **'value'** column by dividing Rating to Price and multiply to 100 as defined in the introduction."
      ]
    },
    {
      "cell_type": "code",
      "metadata": {
        "id": "5xv3iuKiHhTO"
      },
      "source": [
        "def value_calculation(column1,column2):\n",
        "  value = ((column1/column2) * 100).round(2)\n",
        "  return value\n",
        "\n",
        "winedata_df['value'] =  value_calculation(winedata_df['rating_avgs'],winedata_df['prices'])"
      ],
      "execution_count": null,
      "outputs": []
    },
    {
      "cell_type": "markdown",
      "metadata": {
        "id": "z54QY6wCCkV8"
      },
      "source": [
        "## 3.7.Remapping country names: from German to English + country iso_3"
      ]
    },
    {
      "cell_type": "markdown",
      "metadata": {
        "id": "EmZ3yNyeW5ED"
      },
      "source": [
        "Lastly, I will **translate** the country names from German to English to be easier for non-German speakers. Also, I will map country names to iso_3 format, so we can use it later in Plotly"
      ]
    },
    {
      "cell_type": "code",
      "metadata": {
        "id": "ozmGZIVexNzE",
        "colab": {
          "base_uri": "https://localhost:8080/"
        },
        "outputId": "6cc54595-02ae-4f22-8c57-3f367940b968"
      },
      "source": [
        "countries_de_to_en = {'Frankreich':'France','Portugal':'Portugal','Chile':'Chile','Italien':'Italy','Spanien':'Spain','Deutschland':'Germany','Österreich':'Austria','Australien':'Australia','Vereinigte Staaten':'United States','Argentinien':'Argentina','Südafrika':'South Africa'}\n",
        "winedata_df['countries'] = winedata_df['countries'].map(countries_de_to_en)\n",
        "winedata_df['countries'] = winedata_df['countries'].astype(str)\n",
        "winedata_df['country_iso3'] = winedata_df['countries'].map(lambda x: pycountry.countries.get(name=x).alpha_3 if x != 'nan' else x)\n",
        "\n",
        "winedata_df['countries'].value_counts(dropna=False)\n"
      ],
      "execution_count": null,
      "outputs": [
        {
          "output_type": "execute_result",
          "data": {
            "text/plain": [
              "France           8123\n",
              "Italy            5849\n",
              "Spain            3743\n",
              "Germany          2576\n",
              "Austria          1793\n",
              "Portugal         1541\n",
              "Australia        1383\n",
              "Chile            1146\n",
              "United States    745 \n",
              "Argentina        611 \n",
              "South Africa     127 \n",
              "nan              108 \n",
              "Name: countries, dtype: int64"
            ]
          },
          "metadata": {
            "tags": []
          },
          "execution_count": 10
        }
      ]
    },
    {
      "cell_type": "markdown",
      "metadata": {
        "id": "yO2OFMvjC0ta"
      },
      "source": [
        "## 3.4.Deriving a 'Category' and 'Group' column"
      ]
    },
    {
      "cell_type": "markdown",
      "metadata": {
        "id": "DUTEjSUeXEkU"
      },
      "source": [
        "Finally, I will create a category column that will concatenate country, price_category and wine_type - since this is our desired grouping\n"
      ]
    },
    {
      "cell_type": "code",
      "metadata": {
        "id": "nKUalxWKOw-9",
        "colab": {
          "base_uri": "https://localhost:8080/"
        },
        "outputId": "ac9faf0c-accb-49ca-fd79-f6cbab8cb9cf"
      },
      "source": [
        "winedata_df['group'] = [str(x).capitalize() + '-' + str(y).capitalize() + '-' + str(z).capitalize() for x, y, z in zip(winedata_df['countries'], winedata_df['wine_type'],winedata_df['price_category'])]\n",
        "winedata_df['category'] = winedata_df.apply(lambda x: str(x.wine_type).capitalize() + '-' + str(x.price_category).capitalize(), axis=1)\n",
        "\n",
        "winedata_df['category'].value_counts()"
      ],
      "execution_count": null,
      "outputs": [
        {
          "output_type": "execute_result",
          "data": {
            "text/plain": [
              "Red-Medium           4830\n",
              "White-Medium         3897\n",
              "Red-Premium          3553\n",
              "Red-Low              3321\n",
              "White-Low            2182\n",
              "White-Premium        2159\n",
              "Sparkling-Medium     1555\n",
              "Red-Luxury           1311\n",
              "Rose-Low             947 \n",
              "Sparkling-Premium    918 \n",
              "Sparkling-Low        847 \n",
              "Rose-Medium          541 \n",
              "Dessert-Premium      354 \n",
              "White-Luxury         338 \n",
              "Red-None             216 \n",
              "Dessert-Medium       214 \n",
              "Sparkling-Luxury     165 \n",
              "White-None           92  \n",
              "Rose-Premium         83  \n",
              "Dessert-None         79  \n",
              "Dessert-Luxury       56  \n",
              "Dessert-Low          47  \n",
              "Rose-None            21  \n",
              "Sparkling-None       16  \n",
              "Rose-Luxury          3   \n",
              "Name: category, dtype: int64"
            ]
          },
          "metadata": {
            "tags": []
          },
          "execution_count": 11
        }
      ]
    },
    {
      "cell_type": "markdown",
      "metadata": {
        "id": "EIj43pOQBc-4"
      },
      "source": [
        "## 3.5.Deriving 'Harvest year' and 'Grape Type'"
      ]
    },
    {
      "cell_type": "code",
      "metadata": {
        "id": "3_CgQnOZbmse",
        "colab": {
          "base_uri": "https://localhost:8080/"
        },
        "outputId": "f066c58b-856f-45d6-8645-db80eec06eda"
      },
      "source": [
        "def grape_year(grape):\n",
        "  grape = str(grape)\n",
        "  grape_split = grape.split(\" \")\n",
        "  year = grape_split[-1]\n",
        "  if any(char.isdigit() for char in year):\n",
        "    return year\n",
        "  else:\n",
        "    return \"No Year Detected\"\n",
        "\n",
        "winedata_df['harvest_year'] = winedata_df['wine_names'].map(grape_year)\n",
        "\n",
        "winedata_df['harvest_year'].value_counts().head(10)"
      ],
      "execution_count": null,
      "outputs": [
        {
          "output_type": "execute_result",
          "data": {
            "text/plain": [
              "2016                4171\n",
              "2017                3996\n",
              "2018                3802\n",
              "2015                3586\n",
              "No Year Detected    3576\n",
              "2014                2096\n",
              "2013                1440\n",
              "2012                1084\n",
              "2011                838 \n",
              "2010                532 \n",
              "Name: harvest_year, dtype: int64"
            ]
          },
          "metadata": {
            "tags": []
          },
          "execution_count": 12
        }
      ]
    },
    {
      "cell_type": "code",
      "metadata": {
        "id": "qldBs_vodXW8",
        "colab": {
          "base_uri": "https://localhost:8080/"
        },
        "outputId": "af274478-0d57-442f-f192-5c2e9b9b3fb7"
      },
      "source": [
        "def grape_type(grape):\n",
        "  grape = str(grape)\n",
        "  grape = grape.rsplit(' ', 1)[0]\n",
        "  grape = str(grape)\n",
        "  return grape\n",
        "  \n",
        "winedata_df['grape'] = winedata_df['wine_names'].map(grape_type)\n",
        "winedata_df['grape'].value_counts().head(10)"
      ],
      "execution_count": null,
      "outputs": [
        {
          "output_type": "execute_result",
          "data": {
            "text/plain": [
              "Chardonnay                                            330\n",
              "Pomerol                                               203\n",
              "Cabernet Sauvignon                                    168\n",
              "Saint-Émilion Grand Cru (Premier Grand Cru Classé)    156\n",
              "Saint-Julien (Grand Cru Classé)                       153\n",
              "Sauternes (Premier Grand Cru Classé)                  136\n",
              "Pauillac (Grand Cru Classé)                           134\n",
              "Haut-Médoc                                            133\n",
              "Sauvignon Blanc                                       133\n",
              "Tinto                                                 122\n",
              "Name: grape, dtype: int64"
            ]
          },
          "metadata": {
            "tags": []
          },
          "execution_count": 13
        }
      ]
    },
    {
      "cell_type": "markdown",
      "metadata": {
        "id": "t7sbChMzBXOs"
      },
      "source": [
        "##3.6.Renaming columns and adjusting their positions"
      ]
    },
    {
      "cell_type": "markdown",
      "metadata": {
        "id": "vFZfDwVuqFJn"
      },
      "source": [
        "Next, **rearranging column names** and their positions for a better readability"
      ]
    },
    {
      "cell_type": "code",
      "metadata": {
        "id": "cn8N7PwwO9vj",
        "colab": {
          "base_uri": "https://localhost:8080/"
        },
        "outputId": "fda71326-3890-4ee1-8c3e-865196875827"
      },
      "source": [
        "mapping={'catalog':'catalog','wineries':'winery','grape':'grape','harvest_year': 'harvest_year','category':'category','price_category':'price_category','countries':'country','regions':'region','prices':'price','rating_avgs':'rating_avg','total_reviews':'total_reviews','link_wines':'link','value':'value','wine_type':'wine_type'}\n",
        "winedata_df  = winedata_df.rename(mapping,axis=1)\n",
        "\n",
        "#mapping = {''}\n",
        "print(winedata_df.columns.values)\n",
        "\n"
      ],
      "execution_count": null,
      "outputs": [
        {
          "output_type": "stream",
          "text": [
            "['catalog' 'winery' 'wine_names' 'country' 'region' 'price' 'rating_avg'\n",
            " 'total_reviews' 'link' 'wine_type' 'price_category' 'value'\n",
            " 'country_iso3' 'group' 'category' 'harvest_year' 'grape']\n"
          ],
          "name": "stdout"
        }
      ]
    },
    {
      "cell_type": "code",
      "metadata": {
        "id": "q9lC2BlZciZ5"
      },
      "source": [
        "#repositioning columns\n",
        "winedata_df = winedata_df[['catalog','wine_type','winery','grape','harvest_year','country','region','price','price_category','rating_avg','total_reviews','value','category','link','country_iso3','group']]\n"
      ],
      "execution_count": null,
      "outputs": []
    },
    {
      "cell_type": "markdown",
      "metadata": {
        "id": "cLo9pal5eExZ"
      },
      "source": [
        "##Defining useful functions"
      ]
    },
    {
      "cell_type": "code",
      "metadata": {
        "id": "0CzuCh-UeUH6"
      },
      "source": [
        "def show_null_values():\n",
        "  null_columns=winedata_df.columns[winedata_df.isnull().any()]\n",
        "  results = winedata_df[null_columns].isnull().sum()\n",
        "  if results.sum() != 0.0:\n",
        "    print('Null values Exloration per column')\n",
        "    print(results)\n",
        "    print('Total Nr of Null values:')\n",
        "    print(results.sum())\n",
        "  else:\n",
        "    print('Total Nr of null values found: 0')"
      ],
      "execution_count": null,
      "outputs": []
    },
    {
      "cell_type": "code",
      "metadata": {
        "id": "tB7BinfbeAmv"
      },
      "source": [
        "def show_snapshot_values(column_of_value_counts=False, is_asc=True, results_to_display = 5):\n",
        "  duplicates_sum = winedata_df.duplicated('link').sum()\n",
        "  print('Nr of rows:', winedata_df.shape[0])   \n",
        "  print('Nr of columns:',winedata_df.shape[1])\n",
        "  print('_____________________________________')\n",
        "  print(' ')\n",
        "  show_null_values()\n",
        "  print('_____________________________________')\n",
        "  print(' ')\n",
        "  print('Total Nr of Duplicates found:',str(duplicates_sum))\n",
        "  if column_of_value_counts is not False:\n",
        "    print('_____________________________________')\n",
        "    print(' ')\n",
        "    value_counts = winedata_df[column_of_value_counts].value_counts(ascending=is_asc).head(results_to_display)\n",
        "    print(f'   Value Counts for {column_of_value_counts}')\n",
        "    print(value_counts)\n",
        "  else:\n",
        "    print('')"
      ],
      "execution_count": null,
      "outputs": []
    },
    {
      "cell_type": "markdown",
      "metadata": {
        "id": "lSwSwHnG0aFE"
      },
      "source": [
        "# **4.Clearing Duplicates**"
      ]
    },
    {
      "cell_type": "markdown",
      "metadata": {
        "id": "AAJbigqPDlYo"
      },
      "source": [
        "##Exploration of duplicates"
      ]
    },
    {
      "cell_type": "markdown",
      "metadata": {
        "id": "fvWoA_oKXXZb"
      },
      "source": [
        "After tidying the data, duplicates will be addressed. \n",
        "The duplications are found by rows having the same wine link, which should be unique per wine.\n"
      ]
    },
    {
      "cell_type": "code",
      "metadata": {
        "id": "7qXoXRDWSOMr",
        "colab": {
          "base_uri": "https://localhost:8080/"
        },
        "outputId": "61252c8f-c097-4cb4-d769-462ccf9a7471"
      },
      "source": [
        "show_snapshot_values()"
      ],
      "execution_count": null,
      "outputs": [
        {
          "output_type": "stream",
          "text": [
            "Nr of rows: 27745\n",
            "Nr of columns: 16\n",
            "_____________________________________\n",
            " \n",
            "Null values Exloration per column\n",
            "winery            3  \n",
            "price             424\n",
            "price_category    424\n",
            "value             424\n",
            "dtype: int64\n",
            "Total Nr of Null values:\n",
            "1275\n",
            "_____________________________________\n",
            " \n",
            "Total Nr of Duplicates found: 2050\n",
            "\n"
          ],
          "name": "stdout"
        }
      ]
    },
    {
      "cell_type": "markdown",
      "metadata": {
        "id": "TF3W7emyDp0h"
      },
      "source": [
        "## Dropping Duplicates"
      ]
    },
    {
      "cell_type": "code",
      "metadata": {
        "id": "sMiZrQVnUEnn"
      },
      "source": [
        "winedata_df = winedata_df.sort_values(['price','country'],ascending=True)\n",
        "winedata_df = winedata_df.drop_duplicates(subset=['link'],keep='first')"
      ],
      "execution_count": null,
      "outputs": []
    },
    {
      "cell_type": "code",
      "metadata": {
        "colab": {
          "base_uri": "https://localhost:8080/"
        },
        "id": "gmZttBmX8keW",
        "outputId": "27c737d8-f5df-47ec-c7a0-21fc34cb1be9"
      },
      "source": [
        "show_snapshot_values()"
      ],
      "execution_count": null,
      "outputs": [
        {
          "output_type": "stream",
          "text": [
            "Nr of rows: 25695\n",
            "Nr of columns: 16\n",
            "_____________________________________\n",
            " \n",
            "Null values Exloration per column\n",
            "winery            3  \n",
            "price             400\n",
            "price_category    400\n",
            "value             400\n",
            "dtype: int64\n",
            "Total Nr of Null values:\n",
            "1203\n",
            "_____________________________________\n",
            " \n",
            "Total Nr of Duplicates found: 0\n",
            "\n"
          ],
          "name": "stdout"
        }
      ]
    },
    {
      "cell_type": "markdown",
      "metadata": {
        "id": "yGT76oU20K8q"
      },
      "source": [
        "# **5.Solving Missing Values**"
      ]
    },
    {
      "cell_type": "markdown",
      "metadata": {
        "id": "aH7ND3HSD_m8"
      },
      "source": [
        "## Exploration"
      ]
    },
    {
      "cell_type": "markdown",
      "metadata": {
        "id": "Q9I8_GD5EGuV"
      },
      "source": [
        "### Undesirable 0 values"
      ]
    },
    {
      "cell_type": "code",
      "metadata": {
        "id": "iOS5zQF45GMU",
        "colab": {
          "base_uri": "https://localhost:8080/"
        },
        "outputId": "1ca1f8bc-1ca3-4a12-8b1e-cb9796bba73e"
      },
      "source": [
        "print(winedata_df.describe())"
      ],
      "execution_count": null,
      "outputs": [
        {
          "output_type": "stream",
          "text": [
            "              price    rating_avg  total_reviews         value\n",
            "count  25295.000000  25695.000000  25695.000000   25295.000000\n",
            "mean   52.357881     3.879887      588.200856     25.578572   \n",
            "std    308.213608    0.323020      1759.082588    17.166072   \n",
            "min    1.850000      2.000000      25.000000      0.020000    \n",
            "25%    9.945000      3.700000      81.000000      11.610000   \n",
            "50%    16.730000     3.900000      190.000000     23.080000   \n",
            "75%    34.900000     4.100000      541.000000     36.700000   \n",
            "max    22800.000000  4.800000      91586.000000   183.780000  \n"
          ],
          "name": "stdout"
        }
      ]
    },
    {
      "cell_type": "code",
      "metadata": {
        "id": "G8ZlSX2D50LM",
        "colab": {
          "base_uri": "https://localhost:8080/"
        },
        "outputId": "ed7896aa-a3d6-423e-e12e-e82fa3b13f88"
      },
      "source": [
        "print((winedata_df == '0' ).sum())"
      ],
      "execution_count": null,
      "outputs": [
        {
          "output_type": "stream",
          "text": [
            "catalog           0\n",
            "wine_type         0\n",
            "winery            0\n",
            "grape             0\n",
            "harvest_year      0\n",
            "country           0\n",
            "region            0\n",
            "price             0\n",
            "price_category    0\n",
            "rating_avg        0\n",
            "total_reviews     0\n",
            "value             0\n",
            "category          0\n",
            "link              0\n",
            "country_iso3      0\n",
            "group             0\n",
            "dtype: int64\n"
          ],
          "name": "stdout"
        }
      ]
    },
    {
      "cell_type": "markdown",
      "metadata": {
        "id": "JjZRqhFKggrs"
      },
      "source": [
        "Above, we see that none of the columns have 0 values"
      ]
    },
    {
      "cell_type": "markdown",
      "metadata": {
        "id": "OXxa07-yEJ61"
      },
      "source": [
        "### Null values"
      ]
    },
    {
      "cell_type": "markdown",
      "metadata": {
        "id": "Nmgx30F0gt1N"
      },
      "source": [
        "Below, we Explore **count of Null values** per column"
      ]
    },
    {
      "cell_type": "code",
      "metadata": {
        "colab": {
          "base_uri": "https://localhost:8080/"
        },
        "id": "j7XBvCLjeaZY",
        "outputId": "8850b0f7-a1e3-4aa1-fa54-5c3d2d2f3bc8"
      },
      "source": [
        "show_snapshot_values()"
      ],
      "execution_count": null,
      "outputs": [
        {
          "output_type": "stream",
          "text": [
            "Nr of rows: 25695\n",
            "Nr of columns: 16\n",
            "_____________________________________\n",
            " \n",
            "Null values Exloration per column\n",
            "winery            3  \n",
            "price             400\n",
            "price_category    400\n",
            "value             400\n",
            "dtype: int64\n",
            "Total Nr of Null values:\n",
            "1203\n",
            "_____________________________________\n",
            " \n",
            "Total Nr of Duplicates found: 0\n",
            "\n"
          ],
          "name": "stdout"
        }
      ]
    },
    {
      "cell_type": "markdown",
      "metadata": {
        "id": "asZbaepsEheK"
      },
      "source": [
        "## Action points"
      ]
    },
    {
      "cell_type": "markdown",
      "metadata": {
        "id": "PvIJLfjMhAPm"
      },
      "source": [
        "### Replacing or dropping rows with missing prices?\n",
        "\n",
        "\n",
        "\n",
        "The most valuable columns for research are **'Price'**, **'Price_category'** and **'Value'**. The latter 2 columns are derived from the 'Price', therefore fixing the 'Price' will eventually have a positive cascading effect to the rest of the columns.\n",
        "\n",
        "For fixing the missing values of price, I will explore the possibility of **replacing** its values by the **average price** of the categories they belong it. However, before doing so, I would like to check the **relative standard deviation (*Coefficient of Variation (CV)*)** of each category in relation to price:\n",
        "*   If category's CV is low *(<= 0.5)*, I will **replace** missing values with average prices per category\n",
        "*   If category's CV's high *(> 0.5)*, I will **drop** associated wines\n",
        "\n"
      ]
    },
    {
      "cell_type": "code",
      "metadata": {
        "id": "zOsYCPPMZXNa",
        "colab": {
          "base_uri": "https://localhost:8080/"
        },
        "outputId": "676da98a-d0cc-469d-bd5d-0597a8fc135c"
      },
      "source": [
        "#finding catalogs that have null prices\n",
        "is_price_null_rows = winedata_df['price'].isnull()\n",
        "null_price_catalog_rows = winedata_df[is_price_null_rows]['catalog']\n",
        "unique_null_catalogs = list(pd.unique(null_price_catalog_rows))\n",
        "\n",
        "#building pivot table based on null_catalog values\n",
        "df_null_catalogs = winedata_df[winedata_df['catalog'].isin(unique_null_catalogs)]\n",
        "pivot_null_catalogs = pd.pivot_table(df_null_catalogs,index='catalog',values = 'price',aggfunc=['mean',np.std,'count']).round(0)\n",
        "\n",
        "#converting to dataframe for later uses\n",
        "null_cat_df = pd.DataFrame(pivot_null_catalogs.to_records())\n",
        "\n",
        "#renaming original pivot columns\n",
        "mapping_temp = {\"catalog\":\"catalog\",\"('mean', 'price')\":\"mean_price\",\"('std', 'price')\":\"std_price\",\"('count', 'price')\":\"count_wines\"}\n",
        "null_cat_df = null_cat_df.rename(mapping_temp,axis=1)\n",
        "\n",
        "#introducing CV\n",
        "null_cat_df['CV'] = null_cat_df['std_price']/null_cat_df['mean_price']\n",
        "\n",
        "null_cat_df.sort_values(by='count_wines',ascending=False).head(10)\n",
        "\n"
      ],
      "execution_count": null,
      "outputs": [
        {
          "output_type": "execute_result",
          "data": {
            "text/html": [
              "<div>\n",
              "<style scoped>\n",
              "    .dataframe tbody tr th:only-of-type {\n",
              "        vertical-align: middle;\n",
              "    }\n",
              "\n",
              "    .dataframe tbody tr th {\n",
              "        vertical-align: top;\n",
              "    }\n",
              "\n",
              "    .dataframe thead th {\n",
              "        text-align: right;\n",
              "    }\n",
              "</style>\n",
              "<table border=\"1\" class=\"dataframe\">\n",
              "  <thead>\n",
              "    <tr style=\"text-align: right;\">\n",
              "      <th></th>\n",
              "      <th>catalog</th>\n",
              "      <th>mean_price</th>\n",
              "      <th>std_price</th>\n",
              "      <th>count_wines</th>\n",
              "      <th>CV</th>\n",
              "    </tr>\n",
              "  </thead>\n",
              "  <tbody>\n",
              "    <tr>\n",
              "      <th>3</th>\n",
              "      <td>red_australia</td>\n",
              "      <td>50.0</td>\n",
              "      <td>72.0</td>\n",
              "      <td>961</td>\n",
              "      <td>1.440000</td>\n",
              "    </tr>\n",
              "    <tr>\n",
              "      <th>1</th>\n",
              "      <td>Rose</td>\n",
              "      <td>12.0</td>\n",
              "      <td>10.0</td>\n",
              "      <td>950</td>\n",
              "      <td>0.833333</td>\n",
              "    </tr>\n",
              "    <tr>\n",
              "      <th>15</th>\n",
              "      <td>red_spain_high</td>\n",
              "      <td>48.0</td>\n",
              "      <td>63.0</td>\n",
              "      <td>923</td>\n",
              "      <td>1.312500</td>\n",
              "    </tr>\n",
              "    <tr>\n",
              "      <th>6</th>\n",
              "      <td>red_france_low</td>\n",
              "      <td>8.0</td>\n",
              "      <td>4.0</td>\n",
              "      <td>922</td>\n",
              "      <td>0.500000</td>\n",
              "    </tr>\n",
              "    <tr>\n",
              "      <th>18</th>\n",
              "      <td>sparkling_france</td>\n",
              "      <td>66.0</td>\n",
              "      <td>75.0</td>\n",
              "      <td>920</td>\n",
              "      <td>1.136364</td>\n",
              "    </tr>\n",
              "    <tr>\n",
              "      <th>12</th>\n",
              "      <td>red_italy_low</td>\n",
              "      <td>8.0</td>\n",
              "      <td>2.0</td>\n",
              "      <td>910</td>\n",
              "      <td>0.250000</td>\n",
              "    </tr>\n",
              "    <tr>\n",
              "      <th>27</th>\n",
              "      <td>white_italy_medium_high</td>\n",
              "      <td>29.0</td>\n",
              "      <td>26.0</td>\n",
              "      <td>897</td>\n",
              "      <td>0.896552</td>\n",
              "    </tr>\n",
              "    <tr>\n",
              "      <th>20</th>\n",
              "      <td>white_austria</td>\n",
              "      <td>25.0</td>\n",
              "      <td>21.0</td>\n",
              "      <td>883</td>\n",
              "      <td>0.840000</td>\n",
              "    </tr>\n",
              "    <tr>\n",
              "      <th>5</th>\n",
              "      <td>red_chile</td>\n",
              "      <td>25.0</td>\n",
              "      <td>35.0</td>\n",
              "      <td>869</td>\n",
              "      <td>1.400000</td>\n",
              "    </tr>\n",
              "    <tr>\n",
              "      <th>8</th>\n",
              "      <td>red_france_veryhigh</td>\n",
              "      <td>75.0</td>\n",
              "      <td>37.0</td>\n",
              "      <td>837</td>\n",
              "      <td>0.493333</td>\n",
              "    </tr>\n",
              "  </tbody>\n",
              "</table>\n",
              "</div>"
            ],
            "text/plain": [
              "                    catalog  mean_price  std_price  count_wines        CV\n",
              "3   red_australia            50.0        72.0       961          1.440000\n",
              "1   Rose                     12.0        10.0       950          0.833333\n",
              "15  red_spain_high           48.0        63.0       923          1.312500\n",
              "6   red_france_low           8.0         4.0        922          0.500000\n",
              "18  sparkling_france         66.0        75.0       920          1.136364\n",
              "12  red_italy_low            8.0         2.0        910          0.250000\n",
              "27  white_italy_medium_high  29.0        26.0       897          0.896552\n",
              "20  white_austria            25.0        21.0       883          0.840000\n",
              "5   red_chile                25.0        35.0       869          1.400000\n",
              "8   red_france_veryhigh      75.0        37.0       837          0.493333"
            ]
          },
          "metadata": {
            "tags": []
          },
          "execution_count": 24
        }
      ]
    },
    {
      "cell_type": "code",
      "metadata": {
        "id": "V1e_m_Dy2WNP",
        "colab": {
          "base_uri": "https://localhost:8080/"
        },
        "outputId": "28ae9deb-1fce-4f30-da83-502a2b77c272"
      },
      "source": [
        "#dividing catalogs with high and low CV\n",
        "low_cv_catalog = null_cat_df[null_cat_df['CV'] <= 0.5]['catalog'].reset_index(drop=True)\n",
        "high_cv_catalog = null_cat_df[null_cat_df['CV'] > 0.5]['catalog'].reset_index(drop=True)\n",
        "\n",
        "null_cat_df[null_cat_df['CV'] <= 0.5].shape"
      ],
      "execution_count": null,
      "outputs": [
        {
          "output_type": "execute_result",
          "data": {
            "text/plain": [
              "(11, 5)"
            ]
          },
          "metadata": {
            "tags": []
          },
          "execution_count": 25
        }
      ]
    },
    {
      "cell_type": "markdown",
      "metadata": {
        "id": "1QMS8p4UbAoI"
      },
      "source": [
        "### WInes with Low Coefficient of Variation - Replacing missing wine prices by average prices"
      ]
    },
    {
      "cell_type": "code",
      "metadata": {
        "colab": {
          "base_uri": "https://localhost:8080/"
        },
        "id": "9yJv6d4b89Iz",
        "outputId": "8d9921fd-d17b-4771-e42d-9f7d92c699bf"
      },
      "source": [
        "show_snapshot_values()"
      ],
      "execution_count": null,
      "outputs": [
        {
          "output_type": "stream",
          "text": [
            "Nr of rows: 25695\n",
            "Nr of columns: 16\n",
            "_____________________________________\n",
            " \n",
            "Null values Exloration per column\n",
            "winery            3  \n",
            "price             400\n",
            "price_category    400\n",
            "value             400\n",
            "dtype: int64\n",
            "Total Nr of Null values:\n",
            "1203\n",
            "_____________________________________\n",
            " \n",
            "Total Nr of Duplicates found: 0\n",
            "\n"
          ],
          "name": "stdout"
        }
      ]
    },
    {
      "cell_type": "code",
      "metadata": {
        "id": "rC2Dc-3S3m56"
      },
      "source": [
        "#getting a dictionary from pivot table where key is catalog and value - mean_price in order to iterate afterwords\n",
        "low_cv_df = null_cat_df[null_cat_df['CV'] <= 0.5]\n",
        "low_cv_df_catalog_mean_price = low_cv_df[['catalog','mean_price']]\n",
        "\n",
        "\n",
        "#filtering original dataframe for null_priced and low_cv_catalog rows\n",
        "filter_null_price_low_cv = is_price_null_rows & winedata_df['catalog'].isin(low_cv_catalog)\n",
        "\n",
        "#merging the mean price dataframe to the original one so then I can replace nan values in the Price with mean_price\n",
        "winedata_df = winedata_df.merge(low_cv_df_catalog_mean_price, on='catalog', how ='left')\n",
        "\n",
        "def null_to_mean_price(first_column, second_column):\n",
        "  if np.isnan(first_column) and pd.notnull(second_column):\n",
        "    return second_column\n",
        "  else:\n",
        "    return first_column\n",
        "\n",
        "winedata_df['price'] = winedata_df['price'].combine(winedata_df['mean_price'],null_to_mean_price)\n",
        "\n"
      ],
      "execution_count": null,
      "outputs": []
    },
    {
      "cell_type": "markdown",
      "metadata": {
        "id": "i2Jz5zYUn8e8"
      },
      "source": [
        "#### Results of the Low CV operation"
      ]
    },
    {
      "cell_type": "code",
      "metadata": {
        "colab": {
          "base_uri": "https://localhost:8080/"
        },
        "id": "1V7VzTf0FGYw",
        "outputId": "bdc5eb4e-7353-415c-d89d-317d02fa39bb"
      },
      "source": [
        "show_snapshot_values()"
      ],
      "execution_count": null,
      "outputs": [
        {
          "output_type": "stream",
          "text": [
            "Nr of rows: 25695\n",
            "Nr of columns: 17\n",
            "_____________________________________\n",
            " \n",
            "Null values Exloration per column\n",
            "winery            3    \n",
            "price             337  \n",
            "price_category    400  \n",
            "value             400  \n",
            "mean_price        17313\n",
            "dtype: int64\n",
            "Total Nr of Null values:\n",
            "18453\n",
            "_____________________________________\n",
            " \n",
            "Total Nr of Duplicates found: 0\n",
            "\n"
          ],
          "name": "stdout"
        }
      ]
    },
    {
      "cell_type": "markdown",
      "metadata": {
        "id": "S578V_B4DGjR"
      },
      "source": [
        "####Recalculating columns derived from 'Price' which are 'price_category', 'value', 'group'"
      ]
    },
    {
      "cell_type": "markdown",
      "metadata": {
        "id": "8oNnpjjFFZ93"
      },
      "source": [
        "Since we have now more prices available, we need to recalculate derived columns from it"
      ]
    },
    {
      "cell_type": "code",
      "metadata": {
        "id": "8x-hQm3Rcw30",
        "colab": {
          "base_uri": "https://localhost:8080/"
        },
        "outputId": "f1f2b4cf-fbeb-44be-c0c3-d54b5bb7db5a"
      },
      "source": [
        "winedata_df['price_category'] = winedata_df['price'].map(price_buckets)\n",
        "winedata_df['value'] = value_calculation(winedata_df['rating_avg'],winedata_df['price'])\n",
        "winedata_df['category'] = winedata_df.apply(lambda x: str(x.wine_type).capitalize() + '-' + str(x.price_category).capitalize(), axis=1)\n",
        "\n",
        "show_snapshot_values()\n",
        "\n",
        "#note: mean_price is an intermediary column nad will be dropped"
      ],
      "execution_count": null,
      "outputs": [
        {
          "output_type": "stream",
          "text": [
            "Nr of rows: 25695\n",
            "Nr of columns: 17\n",
            "_____________________________________\n",
            " \n",
            "Null values Exloration per column\n",
            "winery            3    \n",
            "price             337  \n",
            "price_category    337  \n",
            "value             337  \n",
            "mean_price        17313\n",
            "dtype: int64\n",
            "Total Nr of Null values:\n",
            "18327\n",
            "_____________________________________\n",
            " \n",
            "Total Nr of Duplicates found: 0\n",
            "\n"
          ],
          "name": "stdout"
        }
      ]
    },
    {
      "cell_type": "markdown",
      "metadata": {
        "id": "ndZkBv5BblQ6"
      },
      "source": [
        "###Wines with high Coefficient of Variation - Dropping missing wine prices"
      ]
    },
    {
      "cell_type": "code",
      "metadata": {
        "id": "6-vyhi5-56Nn"
      },
      "source": [
        "high_cv_catalog = null_cat_df[null_cat_df['CV'] > 0.5]\n",
        "high_cv_catalog = high_cv_catalog['catalog']\n",
        "high_cv_catalog = list(high_cv_catalog)\n",
        "\n",
        "winedata_df['high_cv_catalog'] = winedata_df['catalog'].map(lambda x: True if x in(high_cv_catalog) else False)\n",
        "winedata_df['null_priced_high_cv_catalog_wines'] = winedata_df['high_cv_catalog'] & winedata_df['price'].isnull()"
      ],
      "execution_count": null,
      "outputs": []
    },
    {
      "cell_type": "code",
      "metadata": {
        "id": "NJdGlAXTdjPU"
      },
      "source": [
        "#dropping null_priced_high_cv_catalog_wines\n",
        "winedata_df.drop(index=winedata_df[winedata_df['null_priced_high_cv_catalog_wines']].index,inplace=True)\n",
        "#dropping rows with null 'winery' values\n",
        "winedata_df.drop(index=winedata_df[winedata_df['winery'].isnull()].index,inplace=True)\n",
        "#dropping intermediary mean_price\n",
        "winedata_df.drop(columns='mean_price',axis=0,inplace=True)"
      ],
      "execution_count": null,
      "outputs": []
    },
    {
      "cell_type": "markdown",
      "metadata": {
        "id": "tDfJMMnV3waz"
      },
      "source": [
        "### Results of both operations on Missing Values\n"
      ]
    },
    {
      "cell_type": "code",
      "metadata": {
        "colab": {
          "base_uri": "https://localhost:8080/"
        },
        "id": "pRsXTJ9Iu46I",
        "outputId": "6aad862b-b275-461f-acd4-5a5a61405d9f"
      },
      "source": [
        "show_snapshot_values()"
      ],
      "execution_count": null,
      "outputs": [
        {
          "output_type": "stream",
          "text": [
            "Nr of rows: 25355\n",
            "Nr of columns: 18\n",
            "_____________________________________\n",
            " \n",
            "Total Nr of null values found: 0\n",
            "_____________________________________\n",
            " \n",
            "Total Nr of Duplicates found: 0\n",
            "\n"
          ],
          "name": "stdout"
        }
      ]
    },
    {
      "cell_type": "code",
      "metadata": {
        "colab": {
          "base_uri": "https://localhost:8080/"
        },
        "id": "VU3WfHUOF8gm",
        "outputId": "fb0943d8-ba92-466f-d2a1-89c291b50dcd"
      },
      "source": [
        "winedata_df.head()"
      ],
      "execution_count": null,
      "outputs": [
        {
          "output_type": "execute_result",
          "data": {
            "text/html": [
              "<div>\n",
              "<style scoped>\n",
              "    .dataframe tbody tr th:only-of-type {\n",
              "        vertical-align: middle;\n",
              "    }\n",
              "\n",
              "    .dataframe tbody tr th {\n",
              "        vertical-align: top;\n",
              "    }\n",
              "\n",
              "    .dataframe thead th {\n",
              "        text-align: right;\n",
              "    }\n",
              "</style>\n",
              "<table border=\"1\" class=\"dataframe\">\n",
              "  <thead>\n",
              "    <tr style=\"text-align: right;\">\n",
              "      <th></th>\n",
              "      <th>catalog</th>\n",
              "      <th>wine_type</th>\n",
              "      <th>winery</th>\n",
              "      <th>grape</th>\n",
              "      <th>harvest_year</th>\n",
              "      <th>country</th>\n",
              "      <th>region</th>\n",
              "      <th>price</th>\n",
              "      <th>price_category</th>\n",
              "      <th>rating_avg</th>\n",
              "      <th>total_reviews</th>\n",
              "      <th>value</th>\n",
              "      <th>category</th>\n",
              "      <th>link</th>\n",
              "      <th>country_iso3</th>\n",
              "      <th>group</th>\n",
              "      <th>high_cv_catalog</th>\n",
              "      <th>null_priced_high_cv_catalog_wines</th>\n",
              "    </tr>\n",
              "  </thead>\n",
              "  <tbody>\n",
              "    <tr>\n",
              "      <th>0</th>\n",
              "      <td>red_portugal</td>\n",
              "      <td>red</td>\n",
              "      <td>Bacalhôa</td>\n",
              "      <td>Alentejano Monte das Ânforas Tinto</td>\n",
              "      <td>2014</td>\n",
              "      <td>Portugal</td>\n",
              "      <td>Alentejano</td>\n",
              "      <td>1.85</td>\n",
              "      <td>Low</td>\n",
              "      <td>3.4</td>\n",
              "      <td>740</td>\n",
              "      <td>183.78</td>\n",
              "      <td>Red-Low</td>\n",
              "      <td>https://www.vivino.com/bacalhoa-vinhos-de-portugal-alentejano-monte-das-anforas-tinto/w/1706071?year=2014&amp;price_id=16543955</td>\n",
              "      <td>PRT</td>\n",
              "      <td>Portugal-Red-Low</td>\n",
              "      <td>True</td>\n",
              "      <td>False</td>\n",
              "    </tr>\n",
              "    <tr>\n",
              "      <th>1</th>\n",
              "      <td>red_portugal</td>\n",
              "      <td>red</td>\n",
              "      <td>AR - Adega de Redondo</td>\n",
              "      <td>Porta Da Ravessa Alentejo Tinto</td>\n",
              "      <td>2017</td>\n",
              "      <td>Portugal</td>\n",
              "      <td>Alentejo</td>\n",
              "      <td>2.39</td>\n",
              "      <td>Low</td>\n",
              "      <td>3.4</td>\n",
              "      <td>1016</td>\n",
              "      <td>142.26</td>\n",
              "      <td>Red-Low</td>\n",
              "      <td>https://www.vivino.com/adega-cooperativa-de-redondo-porta-da-ravessa-alentejo-tinto/w/1301087?year=2017&amp;price_id=18902719</td>\n",
              "      <td>PRT</td>\n",
              "      <td>Portugal-Red-Low</td>\n",
              "      <td>True</td>\n",
              "      <td>False</td>\n",
              "    </tr>\n",
              "    <tr>\n",
              "      <th>2</th>\n",
              "      <td>red_portugal</td>\n",
              "      <td>red</td>\n",
              "      <td>AR - Adega de Redondo</td>\n",
              "      <td>Porta Da Ravessa Alentejo Tinto</td>\n",
              "      <td>2018</td>\n",
              "      <td>Portugal</td>\n",
              "      <td>Alentejo</td>\n",
              "      <td>2.39</td>\n",
              "      <td>Low</td>\n",
              "      <td>3.4</td>\n",
              "      <td>479</td>\n",
              "      <td>142.26</td>\n",
              "      <td>Red-Low</td>\n",
              "      <td>https://www.vivino.com/adega-cooperativa-de-redondo-porta-da-ravessa-alentejo-tinto/w/1301087?year=2018&amp;price_id=18902720</td>\n",
              "      <td>PRT</td>\n",
              "      <td>Portugal-Red-Low</td>\n",
              "      <td>True</td>\n",
              "      <td>False</td>\n",
              "    </tr>\n",
              "    <tr>\n",
              "      <th>3</th>\n",
              "      <td>Rose</td>\n",
              "      <td>rose</td>\n",
              "      <td>Canals &amp; Nubiola</td>\n",
              "      <td>Rosado</td>\n",
              "      <td>No Year Detected</td>\n",
              "      <td>Spain</td>\n",
              "      <td>Catalunya</td>\n",
              "      <td>2.65</td>\n",
              "      <td>Low</td>\n",
              "      <td>2.9</td>\n",
              "      <td>360</td>\n",
              "      <td>109.43</td>\n",
              "      <td>Rose-Low</td>\n",
              "      <td>https://www.vivino.com/canals-and-nubiola-rosado/w/2208190?year=N.V.&amp;price_id=7583293</td>\n",
              "      <td>ESP</td>\n",
              "      <td>Spain-Rose-Low</td>\n",
              "      <td>True</td>\n",
              "      <td>False</td>\n",
              "    </tr>\n",
              "    <tr>\n",
              "      <th>4</th>\n",
              "      <td>red_portugal</td>\n",
              "      <td>red</td>\n",
              "      <td>Alfacinha</td>\n",
              "      <td>Tinto</td>\n",
              "      <td>2018</td>\n",
              "      <td>Portugal</td>\n",
              "      <td>Lisboa</td>\n",
              "      <td>2.80</td>\n",
              "      <td>Low</td>\n",
              "      <td>3.5</td>\n",
              "      <td>385</td>\n",
              "      <td>125.00</td>\n",
              "      <td>Red-Low</td>\n",
              "      <td>https://www.vivino.com/alfacinha-tinto/w/6877515?year=2018&amp;price_id=21308016</td>\n",
              "      <td>PRT</td>\n",
              "      <td>Portugal-Red-Low</td>\n",
              "      <td>True</td>\n",
              "      <td>False</td>\n",
              "    </tr>\n",
              "  </tbody>\n",
              "</table>\n",
              "</div>"
            ],
            "text/plain": [
              "        catalog wine_type  ... high_cv_catalog null_priced_high_cv_catalog_wines\n",
              "0  red_portugal  red       ...  True            False                           \n",
              "1  red_portugal  red       ...  True            False                           \n",
              "2  red_portugal  red       ...  True            False                           \n",
              "3  Rose          rose      ...  True            False                           \n",
              "4  red_portugal  red       ...  True            False                           \n",
              "\n",
              "[5 rows x 18 columns]"
            ]
          },
          "metadata": {
            "tags": []
          },
          "execution_count": 33
        }
      ]
    },
    {
      "cell_type": "markdown",
      "metadata": {
        "id": "8E0YvqHiI2Yt"
      },
      "source": [
        "## Retidying columns after Null related operations"
      ]
    },
    {
      "cell_type": "markdown",
      "metadata": {
        "id": "oowhh-InJ52v"
      },
      "source": [
        "Dropping some columns since they will not be needed anymore."
      ]
    },
    {
      "cell_type": "code",
      "metadata": {
        "colab": {
          "base_uri": "https://localhost:8080/"
        },
        "id": "6GxxpAREJGDA",
        "outputId": "d5bd19bd-217e-4004-a770-dfb003651827"
      },
      "source": [
        "winedata_df.columns"
      ],
      "execution_count": null,
      "outputs": [
        {
          "output_type": "execute_result",
          "data": {
            "text/plain": [
              "Index(['catalog', 'wine_type', 'winery', 'grape', 'harvest_year', 'country',\n",
              "       'region', 'price', 'price_category', 'rating_avg', 'total_reviews',\n",
              "       'value', 'category', 'link', 'country_iso3', 'group', 'high_cv_catalog',\n",
              "       'null_priced_high_cv_catalog_wines'],\n",
              "      dtype='object')"
            ]
          },
          "metadata": {
            "tags": []
          },
          "execution_count": 34
        }
      ]
    },
    {
      "cell_type": "code",
      "metadata": {
        "id": "7isxvOM9JKBj"
      },
      "source": [
        "winedata_df.drop(axis=1,columns=['high_cv_catalog', 'null_priced_high_cv_catalog_wines'],inplace=True)"
      ],
      "execution_count": null,
      "outputs": []
    },
    {
      "cell_type": "markdown",
      "metadata": {
        "id": "58RRGfY4IUPf"
      },
      "source": [
        "# **6.Cleaning Data by Representation**"
      ]
    },
    {
      "cell_type": "markdown",
      "metadata": {
        "id": "eqlygP3ZrynA"
      },
      "source": [
        "##Dropping Categories little representation (<100 bottles)\n",
        "\n",
        "Population ('category') that has less than 10 wines will be dropped"
      ]
    },
    {
      "cell_type": "code",
      "metadata": {
        "colab": {
          "base_uri": "https://localhost:8080/"
        },
        "id": "BAHmSDjPUPJo",
        "outputId": "6bc38d67-348b-45fc-f66f-470d9e459a40"
      },
      "source": [
        "show_snapshot_values('category',True,10)"
      ],
      "execution_count": null,
      "outputs": [
        {
          "output_type": "stream",
          "text": [
            "Nr of rows: 25355\n",
            "Nr of columns: 16\n",
            "_____________________________________\n",
            " \n",
            "Total Nr of null values found: 0\n",
            "_____________________________________\n",
            " \n",
            "Total Nr of Duplicates found: 0\n",
            "_____________________________________\n",
            " \n",
            "   Value Counts for category\n",
            "Rose-Luxury         2  \n",
            "Dessert-Low         47 \n",
            "Rose-Premium        50 \n",
            "Dessert-Luxury      56 \n",
            "Sparkling-Luxury    159\n",
            "Dessert-Medium      214\n",
            "White-Luxury        314\n",
            "Rose-Medium         319\n",
            "Dessert-Premium     354\n",
            "Rose-Low            578\n",
            "Name: category, dtype: int64\n"
          ],
          "name": "stdout"
        }
      ]
    },
    {
      "cell_type": "code",
      "metadata": {
        "id": "NZwctmbmoo5M"
      },
      "source": [
        "winedata_df = winedata_df.groupby('category').filter(lambda x : len(x)>100)"
      ],
      "execution_count": null,
      "outputs": []
    },
    {
      "cell_type": "code",
      "metadata": {
        "colab": {
          "base_uri": "https://localhost:8080/"
        },
        "id": "5p7gA9daISy1",
        "outputId": "cff8d80b-6793-4e4c-fe89-d2b96fbf6c65"
      },
      "source": [
        "show_snapshot_values('category',True,10)"
      ],
      "execution_count": null,
      "outputs": [
        {
          "output_type": "stream",
          "text": [
            "Nr of rows: 25200\n",
            "Nr of columns: 16\n",
            "_____________________________________\n",
            " \n",
            "Total Nr of null values found: 0\n",
            "_____________________________________\n",
            " \n",
            "Total Nr of Duplicates found: 0\n",
            "_____________________________________\n",
            " \n",
            "   Value Counts for category\n",
            "Sparkling-Luxury     159 \n",
            "Dessert-Medium       214 \n",
            "White-Luxury         314 \n",
            "Rose-Medium          319 \n",
            "Dessert-Premium      354 \n",
            "Rose-Low             578 \n",
            "Sparkling-Low        590 \n",
            "Sparkling-Premium    819 \n",
            "Sparkling-Medium     1109\n",
            "Red-Luxury           1309\n",
            "Name: category, dtype: int64\n"
          ],
          "name": "stdout"
        }
      ]
    },
    {
      "cell_type": "markdown",
      "metadata": {
        "id": "daeKP5M2UXun"
      },
      "source": [
        "##Dropping Groups with little representation (<50 bottles)\n"
      ]
    },
    {
      "cell_type": "code",
      "metadata": {
        "colab": {
          "base_uri": "https://localhost:8080/"
        },
        "id": "Hdq8yVWqVQoz",
        "outputId": "78585484-4de2-42ba-c3c9-e46b0e79593b"
      },
      "source": [
        "show_snapshot_values('group',True,10)"
      ],
      "execution_count": null,
      "outputs": [
        {
          "output_type": "stream",
          "text": [
            "Nr of rows: 25200\n",
            "Nr of columns: 16\n",
            "_____________________________________\n",
            " \n",
            "Total Nr of null values found: 0\n",
            "_____________________________________\n",
            " \n",
            "Total Nr of Duplicates found: 0\n",
            "_____________________________________\n",
            " \n",
            "   Value Counts for group\n",
            "Chile-White-Luxury               1\n",
            "Italy-White-None                 1\n",
            "Spain-White-Luxury               1\n",
            "United states-Dessert-Medium     1\n",
            "Germany-Sparkling-Luxury         1\n",
            "Chile-Dessert-Premium            1\n",
            "Chile-Sparkling-Low              1\n",
            "Chile-Dessert-Medium             1\n",
            "United states-Dessert-Premium    1\n",
            "Australia-Dessert-Premium        2\n",
            "Name: group, dtype: int64\n"
          ],
          "name": "stdout"
        }
      ]
    },
    {
      "cell_type": "code",
      "metadata": {
        "id": "LMbGkf1cUzKR"
      },
      "source": [
        "winedata_df = winedata_df.groupby('group').filter(lambda x : len(x)>50)"
      ],
      "execution_count": null,
      "outputs": []
    },
    {
      "cell_type": "code",
      "metadata": {
        "colab": {
          "base_uri": "https://localhost:8080/"
        },
        "id": "GJ5-eABnVPXE",
        "outputId": "3dc4413e-0308-4b95-fb55-6905f82868d8"
      },
      "source": [
        "show_snapshot_values('group',True,10)"
      ],
      "execution_count": null,
      "outputs": [
        {
          "output_type": "stream",
          "text": [
            "Nr of rows: 24300\n",
            "Nr of columns: 16\n",
            "_____________________________________\n",
            " \n",
            "Total Nr of null values found: 0\n",
            "_____________________________________\n",
            " \n",
            "Total Nr of Duplicates found: 0\n",
            "_____________________________________\n",
            " \n",
            "   Value Counts for group\n",
            "South africa-Rose-Low         51\n",
            "Italy-Dessert-Premium         51\n",
            "Australia-White-Premium       54\n",
            "United states-White-Luxury    55\n",
            "Portugal-Sparkling-Medium     56\n",
            "Australia-White-Low           59\n",
            "Austria-Sparkling-Medium      65\n",
            "Portugal-White-Premium        65\n",
            "Argentina-White-Medium        66\n",
            "United states-Red-Premium     67\n",
            "Name: group, dtype: int64\n"
          ],
          "name": "stdout"
        }
      ]
    },
    {
      "cell_type": "markdown",
      "metadata": {
        "id": "7y1eN32TafQa"
      },
      "source": [
        "# **7.Saving Clean Data**"
      ]
    },
    {
      "cell_type": "code",
      "metadata": {
        "id": "J0XQqnh65ysI"
      },
      "source": [
        "## Clean dataframe and make local copy ##\n",
        "clean_df = winedata_df\n",
        "### clean_db saved as pickle\n",
        "clean_df.to_pickle('/content/drive/My Drive/Colab Notebooks/winedata_df_after_data_wrangling.pkl')"
      ],
      "execution_count": null,
      "outputs": []
    }
  ]
}