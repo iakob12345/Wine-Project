{
  "nbformat": 4,
  "nbformat_minor": 0,
  "metadata": {
    "colab": {
      "name": "Wine_1_Introduction_iakob_Fito.ipynb",
      "provenance": [],
      "collapsed_sections": [],
      "include_colab_link": true
    },
    "kernelspec": {
      "name": "python3",
      "display_name": "Python 3"
    }
  },
  "cells": [
    {
      "cell_type": "markdown",
      "metadata": {
        "id": "view-in-github",
        "colab_type": "text"
      },
      "source": [
        "<a href=\"https://colab.research.google.com/github/iakob12345/test/blob/master/Wine_1_Introduction.ipynb\" target=\"_parent\"><img src=\"https://colab.research.google.com/assets/colab-badge.svg\" alt=\"Open In Colab\"/></a>"
      ]
    },
    {
      "cell_type": "markdown",
      "metadata": {
        "id": "CwTH5pP3zu-Z"
      },
      "source": [
        "#Authors\n",
        "First author: Iakob Kvatashidze\n",
        "\n",
        "Corresponding author: Rodolfo Briones"
      ]
    },
    {
      "cell_type": "markdown",
      "metadata": {
        "id": "X3QpDMpxH9G1"
      },
      "source": [
        "# Project background:\n",
        "By the end of 2020, we scraped around 28,000 highly reviewed wines from https://www.vivino.com website (90% of the population) in order to analyze relationships between wine producer countries and their quality/price ratios aka value (quality was identified through reviews). More specifically, we wanted to find out for each wine type (Red,White,Sparkling,etc) and for each price category (0-10e,10-25e,etc) which countries offered the best value for money."
      ]
    },
    {
      "cell_type": "markdown",
      "metadata": {
        "id": "AFjAlUAnHjWD"
      },
      "source": [
        "# Research question: \n",
        "Which country offers the best value wines for each wine type and price range?"
      ]
    },
    {
      "cell_type": "markdown",
      "metadata": {
        "id": "fFoGmo9vULWs"
      },
      "source": [
        "# Steps to answer the research question:\n",
        "\n",
        "1.   Data Wrangling (tidying, cleaning & transforming the data)\n",
        "2.   Descriptive Statistics (showcasing general data trends)\n",
        "3.   Data Modeling and Statistics (overcoming limitations of the current dataset and testing for statistical significance)\n",
        "4.   Inferences (answering the research question)\n",
        "\n"
      ]
    },
    {
      "cell_type": "markdown",
      "metadata": {
        "id": "HVFlr8veKsNm"
      },
      "source": [
        "# **Variables**"
      ]
    },
    {
      "cell_type": "markdown",
      "metadata": {
        "id": "gceR1nfBCwHN"
      },
      "source": [
        "\n",
        "## *Quantitative Variables:*<br>\n",
        "* Average Rating = $\\overline{R}$ where the unit is stars [$\\star$]. $\\overline{R} \\in \\mathbb{R} \\geq 0$<br>\n",
        " * Average rating that wine received from users within a scale of 1 to 5 (5 representing the highest score)<br>\n",
        "* Price = $P$ in Euros [€]. $P \\in \\mathbb{R} > 0$<br>\n",
        " * Price that was attributed to the bottle in euros\n",
        "* Number of reviews = $N_r$ $N \\in \\mathbb{N}>0$<br>\n",
        " * Number of user reviews wine received \n",
        "* Value = 𝑉 <br>\n",
        " * *Defined below*\n",
        "<br>\n",
        "\n",
        "## *Qualitative / Categorical Variables:*<br>\n",
        "* Wine type (general type of wine e.g. Red, White, Sparkling)\n",
        "* Country (country of origin: France, Chile, Italy, etc)\n",
        "* Price category (arbitrarily defined):\n",
        "    - *Low*: $P<10€$, <br>\n",
        "    - *Medium*: $10€ \\leq P <25€$,  <br>\n",
        "    - *Premium*: $25€ \\leq P <100€$, <br>\n",
        "    - *Luxury*: $P \\geq 100€$\n",
        "* Grape (grape type e.g. Chardonnay, Riesling, Syrah, etc)\n",
        "* Wineries (company that produced wine)\n",
        "* Wine_names (specific wine name on the etiquette)\n",
        "* Year $Y$, $Y \\in \\mathbb{N}>0$. (harvest year)\n",
        "* Category (concatenated values of country, wine type and price category)\n",
        "* Link_wines (nique identifier - page on Vivino for each wine)\n",
        "\n",
        "\n",
        "\n"
      ]
    },
    {
      "cell_type": "markdown",
      "metadata": {
        "id": "PPZs1h3IMOcu"
      },
      "source": [
        "####*Value definition*:\n",
        "**Value** = $V$ = (Average Rating / Price) * 100 <br>\n",
        "\n",
        "$V=(\\hat{R}/P)*100$\n",
        "\n",
        "For instance,\n",
        "\n",
        "1) \n",
        "Price: 100,\n",
        "$\\hat{R}$: 4.6,\n",
        "Value: (4.6 / 100) * 100 = 4.6\n",
        "\n",
        "2)\n",
        "Price: 20,\n",
        "$\\hat{R}$: 4.0,\n",
        "Value: (4.0 / 20) * 100 = 20\n",
        "\n",
        "3) \n",
        "Price: 10,\n",
        "$\\hat{R}$: 3.9,\n",
        "Value: (3.9 / 10) * 100 = 39"
      ]
    }
  ]
}