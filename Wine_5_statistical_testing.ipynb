{
  "nbformat": 4,
  "nbformat_minor": 0,
  "metadata": {
    "colab": {
      "name": "Wine_5_statistical_testing.ipynb",
      "provenance": [],
      "collapsed_sections": [
        "EumUdZaGxKO9"
      ],
      "authorship_tag": "ABX9TyOjOGL+9Zvu9uHE2ZNQ27AD",
      "include_colab_link": true
    },
    "kernelspec": {
      "name": "python3",
      "display_name": "Python 3"
    }
  },
  "cells": [
    {
      "cell_type": "markdown",
      "metadata": {
        "id": "view-in-github",
        "colab_type": "text"
      },
      "source": [
        "<a href=\"https://colab.research.google.com/github/iakob12345/Wine-Project/blob/master/Wine_5_statistical_testing.ipynb\" target=\"_parent\"><img src=\"https://colab.research.google.com/assets/colab-badge.svg\" alt=\"Open In Colab\"/></a>"
      ]
    },
    {
      "cell_type": "markdown",
      "metadata": {
        "id": "5UuOQJ9HxJHd"
      },
      "source": [
        "# **Research question:** \n",
        "Which country offers the best value wines for each wine type and price range?"
      ]
    },
    {
      "cell_type": "markdown",
      "metadata": {
        "id": "EumUdZaGxKO9"
      },
      "source": [
        "#**Null Hypothesis**\n",
        "\n",
        "**Null Hypothesis**: \n",
        "Wine origin country has no effect on the value proposition of wines.\n",
        "\n",
        "**Alternative Hypothesis**:\n",
        "Wine origin country has an effect on the value proposition of wines."
      ]
    },
    {
      "cell_type": "markdown",
      "metadata": {
        "id": "p4vYN0eThYr5"
      },
      "source": [
        "## **Variables**"
      ]
    },
    {
      "cell_type": "markdown",
      "metadata": {
        "id": "dZIW_DWllQlw"
      },
      "source": [
        "### **Independent variable**: 'Country'\n",
        "\n",
        "\n",
        "\n",
        "> *Examples:* (France, Germany, Spain, Italy, Chile, United States, Australia, etc)\n",
        "\n",
        "### **Dependent variable**: 'Value' *(Rating divided by Price)*\n",
        "\n",
        "\n",
        "> *Range:* (0.2 - 200)\n",
        "\n",
        "\n",
        "\n",
        "\n",
        "### **Categories**: 'Category' *(Price category + Wine Type)*\n",
        "\n",
        "> *Examples:* (White_Low, White_Medium, White_Premium, Red_Low, Red_Medium, etc)\n",
        "\n",
        "\n",
        "We will be comparing the effects of wine origin countries across multiple different clusters."
      ]
    },
    {
      "cell_type": "markdown",
      "metadata": {
        "id": "0Js13l5cmJ-D"
      },
      "source": [
        "# **Statistical Testing**"
      ]
    },
    {
      "cell_type": "markdown",
      "metadata": {
        "id": "nvJTIdHIZaPE"
      },
      "source": [
        "##Data Introduction"
      ]
    },
    {
      "cell_type": "markdown",
      "metadata": {
        "id": "kZdJukaxZh56"
      },
      "source": [
        "### Libraries imported"
      ]
    },
    {
      "cell_type": "code",
      "metadata": {
        "colab": {
          "base_uri": "https://localhost:8080/"
        },
        "id": "92DYAH_02d1v",
        "outputId": "c24e048f-957a-408b-cd8b-a16b76a75d55"
      },
      "source": [
        "!pip install numpy_indexed\n",
        "!pip install scikit_posthocs\n",
        "\n",
        "import numpy as np\n",
        "import pandas as pd\n",
        "from scipy.stats import f\n",
        "from scipy.stats import levene\n",
        "from scipy.stats import kruskal\n",
        "import matplotlib.pyplot as plt\n",
        "import scikit_posthocs as sp\n",
        "%matplotlib inline \n",
        "\n",
        "from google.colab import drive\n",
        "drive.mount('/content/drive/')\n",
        "path='/content/drive/My Drive/Colab Notebooks/winedata_df_after_scaling_factor.pkl'\n",
        "\n",
        "# read cvs in Pandas\n",
        "winedata_df = pd.read_pickle(path)"
      ],
      "execution_count": 33,
      "outputs": [
        {
          "output_type": "stream",
          "text": [
            "Requirement already satisfied: numpy_indexed in /usr/local/lib/python3.7/dist-packages (0.3.5)\n",
            "Requirement already satisfied: future in /usr/local/lib/python3.7/dist-packages (from numpy_indexed) (0.16.0)\n",
            "Requirement already satisfied: numpy in /usr/local/lib/python3.7/dist-packages (from numpy_indexed) (1.19.5)\n",
            "Requirement already satisfied: scikit_posthocs in /usr/local/lib/python3.7/dist-packages (0.6.7)\n",
            "Requirement already satisfied: scipy in /usr/local/lib/python3.7/dist-packages (from scikit_posthocs) (1.4.1)\n",
            "Requirement already satisfied: matplotlib in /usr/local/lib/python3.7/dist-packages (from scikit_posthocs) (3.2.2)\n",
            "Requirement already satisfied: seaborn in /usr/local/lib/python3.7/dist-packages (from scikit_posthocs) (0.11.1)\n",
            "Requirement already satisfied: pandas>=0.20.0 in /usr/local/lib/python3.7/dist-packages (from scikit_posthocs) (1.1.5)\n",
            "Requirement already satisfied: numpy in /usr/local/lib/python3.7/dist-packages (from scikit_posthocs) (1.19.5)\n",
            "Requirement already satisfied: statsmodels in /usr/local/lib/python3.7/dist-packages (from scikit_posthocs) (0.10.2)\n",
            "Requirement already satisfied: cycler>=0.10 in /usr/local/lib/python3.7/dist-packages (from matplotlib->scikit_posthocs) (0.10.0)\n",
            "Requirement already satisfied: python-dateutil>=2.1 in /usr/local/lib/python3.7/dist-packages (from matplotlib->scikit_posthocs) (2.8.1)\n",
            "Requirement already satisfied: pyparsing!=2.0.4,!=2.1.2,!=2.1.6,>=2.0.1 in /usr/local/lib/python3.7/dist-packages (from matplotlib->scikit_posthocs) (2.4.7)\n",
            "Requirement already satisfied: kiwisolver>=1.0.1 in /usr/local/lib/python3.7/dist-packages (from matplotlib->scikit_posthocs) (1.3.1)\n",
            "Requirement already satisfied: pytz>=2017.2 in /usr/local/lib/python3.7/dist-packages (from pandas>=0.20.0->scikit_posthocs) (2018.9)\n",
            "Requirement already satisfied: patsy>=0.4.0 in /usr/local/lib/python3.7/dist-packages (from statsmodels->scikit_posthocs) (0.5.1)\n",
            "Requirement already satisfied: six in /usr/local/lib/python3.7/dist-packages (from cycler>=0.10->matplotlib->scikit_posthocs) (1.15.0)\n",
            "Drive already mounted at /content/drive/; to attempt to forcibly remount, call drive.mount(\"/content/drive/\", force_remount=True).\n"
          ],
          "name": "stdout"
        }
      ]
    },
    {
      "cell_type": "markdown",
      "metadata": {
        "id": "lNnwKPsrtQzo"
      },
      "source": [
        "## **Grouping the data for Statistical Testing**\n",
        "We will group data so it was easier to work with below statistical tests."
      ]
    },
    {
      "cell_type": "code",
      "metadata": {
        "id": "06ONs6SNo2j3"
      },
      "source": [
        "#base grouping\n",
        "wine_categories = winedata_df['category'].unique()\n",
        "wine_categories = list(wine_categories)\n",
        "wine_countries = winedata_df['country'].unique()\n",
        "\n",
        "country_category_value_df = winedata_df[['country','category','value_scaled']]"
      ],
      "execution_count": 34,
      "outputs": []
    },
    {
      "cell_type": "code",
      "metadata": {
        "id": "b60iLIJSGRDw",
        "colab": {
          "base_uri": "https://localhost:8080/"
        },
        "outputId": "5e822bd8-37d6-4374-daca-d8544852a227"
      },
      "source": [
        "#nested list in dictionary\n",
        "#dictionary key represent categories and nested lists represent country samples' 'values' separately\n",
        "values_per_category_nested_list = {}\n",
        "for category in wine_categories:\n",
        "  category = str(category)\n",
        "  values_per_country_category = country_category_value_df[country_category_value_df['category'] == category][['country','value_scaled']]\n",
        "  values_per_country_list = []\n",
        "  for country in wine_countries:\n",
        "    is_country = any(values_per_country_category['country'] == country)\n",
        "    if is_country:\n",
        "      values_per_country = values_per_country_category[values_per_country_category['country'] == country]['value_scaled']\n",
        "      values_per_country = list(values_per_country)\n",
        "      values_per_country_list.append(values_per_country)\n",
        "      values_per_category_nested_list[category] = values_per_country_list\n",
        "      \n",
        "#examples\n",
        "for n,k in enumerate(values_per_category_nested_list):\n",
        "  if k == 'Sparkling-Luxury':\n",
        "    print(k,':', values_per_category_nested_list[k])\n"
      ],
      "execution_count": 73,
      "outputs": [
        {
          "output_type": "stream",
          "text": [
            "Sparkling-Luxury : [[3.987782667775011, 3.6539807701724927, 3.7608333692237643, 3.5697684965982543, 3.423086221233785, 3.5448612178822536, 3.513819234848159, 3.7899559350518905, 3.6878072220327294, 3.6576893767447967, 3.6393793543597632, 3.626018579311846, 3.353391250154781, 3.4150890700748073, 3.2717136092610346, 3.1171915920626168, 3.058293096333186, 3.335196426566203, 3.0432761756427027, 2.8043497178539862, 3.067287824151095, 3.250573134061526, 3.057970778352563, 2.9651638511766207, 3.028569612559171, 3.0233651685911145, 3.004634696865917, 2.956418438070151, 2.8314302501370556, 2.964543779083231, 2.9239701266492877, 2.930235948512998, 3.513979952183447, 3.0480104839472495, 3.0171218333201035, 3.0221348975868425, 2.815196225184388, 2.8638991850453923, 2.7961946857499345, 2.73161463138352, 3.606871797562689, 3.105350057674917, 2.954547482048466, 2.840995085211941, 2.7735903087895064, 3.1930730512825147, 3.113392117355866, 3.398347504155783, 2.8854116496562896, 2.7964190395962105, 2.782845237337752, 2.7456609487043693, 2.7390049213183687, 2.6340919614277714, 2.7979202064430897, 2.686926686779839, 2.554144997743866, 3.258288395682153, 3.164993680849281, 3.1253993123286388, 3.079824384611925, 3.0304728154310974, 3.0052680089433643, 2.9024649794658424, 2.7278702441660316, 2.818546960102138, 2.740922790609546, 2.681437892317291, 2.658251650498112, 2.6310815879230867, 2.540903472503656, 2.9394587806386827, 2.8067542873794853, 2.4893501830762723, 2.4823012719167568, 2.464508985580433, 2.511611410089087, 2.5092876854305586, 3.382335359459846, 2.455205608663217, 2.430745039631149, 2.386804468777372, 2.3073423574974643, 2.4848027957408787, 2.640668425789504, 2.338437727213188, 2.322704626850444, 2.3051674664913158, 2.2895512709347297, 2.188817307318934, 2.277764031085893, 2.2012046290843394, 2.1916757713251247, 2.1906202007773423, 2.2159924158142785, 2.2449308581276024, 1.9865359226359138, 2.3389381988199895, 2.706857669949197, 1.9410701367153627, 2.2446896042750266, 2.157435213817583, 2.116095108195645, 2.003772223928385, 1.9207647309266538, 1.8517649274032089, 2.495519568132051, 2.0352288289305105, 2.325816363454545, 1.944045738952781, 1.9374894608542483, 1.8410574676663474, 1.8717561260813778, 1.8022432710344618, 1.675095908075192, 1.6935720333854372, 1.7454258115222752, 1.7433733077997338, 1.69254962001732, 1.6413547470490766, 1.6598962963160035, 1.6197289485385, 1.595478445814596, 1.5574789869212564, 1.9040424296597909, 1.543326326509831, 1.5673868813890732, 1.560952440545813, 1.4686413921129504, 1.5089208711184636, 1.4432020658948044, 1.4299038551606553, 1.3308365537645666, 1.2848272400754452, 1.2884522758423027, 1.2219390773886782, 1.228172357801248, 1.2249371276209877, 1.1878468593703269, 1.210962450524974, 1.2063264676112697, 1.1511807971218082, 1.1683015139546826, 1.062179357101456, 1.1028466245344266, 0.8686526576562171, 0.8990995733144652, 0.7154908303598906, 0.5554997851242678]]\n"
          ],
          "name": "stdout"
        }
      ]
    },
    {
      "cell_type": "markdown",
      "metadata": {
        "id": "95uUDA2MZlKl"
      },
      "source": [
        "### Descriptive Statistics: Categories and Population groups "
      ]
    },
    {
      "cell_type": "code",
      "metadata": {
        "id": "1qCzHfvzMmRo",
        "colab": {
          "base_uri": "https://localhost:8080/"
        },
        "outputId": "ff6998c9-a62f-4083-faa1-e11d1948e482"
      },
      "source": [
        "category_country_agg = winedata_df.groupby(by=['category','country'])['value_scaled'].agg(count='count',mean='mean',std = 'std',min='min',max='max')\n",
        "\n",
        "print(category_country_agg.to_string())"
      ],
      "execution_count": 36,
      "outputs": [
        {
          "output_type": "stream",
          "text": [
            "                                 count       mean        std        min         max\n",
            "category          country                                                          \n",
            "Dessert-Medium    France            67  22.225789   6.013230  12.816188   42.129449\n",
            "Dessert-Premium   France           240   9.004832   3.432935   3.490668   17.788295\n",
            "                  Italy             51  10.844402   3.050074   5.363916   17.408733\n",
            "Red-Low           Argentina        114  47.132999  11.279431  31.668292   87.804849\n",
            "                  Australia        130  43.552094  11.451260  27.945967   94.883576\n",
            "                  Austria          101  39.666962   5.537852  29.413276   66.148324\n",
            "                  Chile            329  44.603056   8.734730  30.071132   83.008685\n",
            "                  France           890  44.040592   9.190848  27.193641   84.381157\n",
            "                  Germany          127  43.063361  11.204202  29.783342   83.887539\n",
            "                  Italy            875  48.196938  11.450796  26.782124  124.318137\n",
            "                  Portugal         274  55.002691  19.482098  32.166971  184.647716\n",
            "                  Spain            453  48.189284  10.699995  30.019802   87.272595\n",
            "Red-Luxury        Australia        120   2.404060   0.883082   0.546267    4.380592\n",
            "                  France           931   1.750015   1.152446   0.017892    4.875255\n",
            "                  Italy             94   2.358670   1.064973   0.355324    5.479076\n",
            "                  Spain             75   2.759449   1.226545   0.568640    4.869666\n",
            "Red-Medium        Argentina        176  27.230163   6.216851  14.150879   40.247513\n",
            "                  Australia        364  21.532556   5.542209  12.936840   43.595267\n",
            "                  Austria          359  22.958267   5.542242  13.184180   36.335224\n",
            "                  Chile            356  25.646850   5.794044  12.858114   43.048611\n",
            "                  France           979  22.501561   5.557170  12.644598   44.031223\n",
            "                  Germany          319  22.618711   5.368234  13.370303   34.923597\n",
            "                  Italy           1232  24.402095   6.114750  12.223035   46.011907\n",
            "                  Portugal         273  25.837908   6.311297  12.753414   43.449231\n",
            "                  Spain            618  24.636144   6.215477  12.020747   44.156087\n",
            "                  United States     76  28.078240   6.886647  16.725486   45.786644\n",
            "Red-Premium       Argentina         99  10.714149   3.800564   3.735632   18.147664\n",
            "                  Australia        347   8.765273   2.984244   3.540471   17.034395\n",
            "                  Austria          270   9.024916   2.728737   3.718305   14.841407\n",
            "                  Chile            142   9.673078   3.644608   3.813716   18.817097\n",
            "                  France          1073   8.101407   2.827831   3.552835   16.113650\n",
            "                  Germany          160   9.847624   2.519169   3.955823   14.232997\n",
            "                  Italy            747  10.326964   3.196088   3.827072   19.786746\n",
            "                  Portugal         173  10.851418   3.488509   4.328826   19.025831\n",
            "                  Spain            470  10.625726   3.739468   3.628959   20.188939\n",
            "                  United States     67  10.779741   3.656434   4.356378   17.847786\n",
            "Rose-Low          France           121  48.731477  11.113829  30.054430  105.581865\n",
            "                  Italy            146  48.454476  11.886344  31.640274  103.328800\n",
            "                  South Africa      51  48.022341  10.606696  35.545236   83.483599\n",
            "                  Spain            129  55.435967  16.001850  32.969171  119.758442\n",
            "Rose-Medium       France           145  25.482008   5.735690  15.362061   39.373449\n",
            "                  Italy             79  28.967635   4.606042  18.644000   42.098536\n",
            "Sparkling-Low     Germany           80  47.883110  12.852500  27.027810   97.789856\n",
            "                  Italy            257  46.058856  11.106636  28.190278   98.442951\n",
            "                  Spain            175  46.023105  14.089169  28.437270  101.138479\n",
            "Sparkling-Luxury  France           149   2.452195   0.764948   0.555500    3.987783\n",
            "Sparkling-Medium  Austria           65  21.368389   5.203901  14.011143   39.874182\n",
            "                  France           159  24.892881   6.448472  13.833207   43.343504\n",
            "                  Germany          145  22.570965   4.315366  12.664775   33.099357\n",
            "                  Italy            362  26.138499   7.095426  13.348107   42.655180\n",
            "                  Portugal          56  22.843582   6.144380  12.131982   35.112468\n",
            "                  Spain            296  24.897014   5.748614  12.876004   39.369991\n",
            "Sparkling-Premium France           584   9.283752   2.634185   4.003519   15.409786\n",
            "                  Italy            102   9.981958   3.327672   3.965749   18.627989\n",
            "                  Spain             75  10.649467   2.864197   3.943174   15.837805\n",
            "White-Low         Argentina         73  46.669483   8.004088  33.586696   65.952496\n",
            "                  Australia         59  42.817549   9.870248  31.052897   89.213794\n",
            "                  Austria          128  41.443607   6.436289  31.840182   63.097833\n",
            "                  Chile            143  45.631399   8.501087  31.996331   74.260497\n",
            "                  France           389  48.503427  10.964159  31.339787  100.392961\n",
            "                  Germany          270  43.806656   8.638784  32.363724  101.166860\n",
            "                  Italy            415  48.042961   9.921011  32.992651   86.401836\n",
            "                  Portugal         282  55.198576  15.783150  34.172157  113.514481\n",
            "                  Spain            323  50.969081  11.448092  33.639834   83.812782\n",
            "White-Luxury      France           194   2.491610   1.081556   0.053568    5.012436\n",
            "                  United States     55   2.015959   0.760330   1.039229    4.260409\n",
            "White-Medium      Argentina         66  27.187958   5.581118  14.309396   37.506603\n",
            "                  Australia         80  22.861089   5.690229  14.550610   36.398812\n",
            "                  Austria          454  23.320198   5.853124  12.006925   39.205844\n",
            "                  Chile             82  26.168198   5.049273  13.521875   37.805613\n",
            "                  France           684  23.997543   5.727947  11.786436   46.988666\n",
            "                  Germany          714  24.405618   6.110471  12.247121   42.451068\n",
            "                  Italy            872  24.351160   6.502540  13.562551   46.336360\n",
            "                  Portugal         247  26.844437   7.383261  14.524087   49.966091\n",
            "                  Spain            299  27.572149   7.053787  14.268438   46.132431\n",
            "                  United States    188  24.252659   7.307128  12.437181   44.306896\n",
            "White-Premium     Australia         54   9.516004   2.867914   4.184210   15.876262\n",
            "                  Austria          288   9.964507   2.691051   4.324813   17.321894\n",
            "                  France           610   8.780736   3.487245   3.389207   20.454244\n",
            "                  Germany          328  10.005179   2.639851   4.035913   16.277731\n",
            "                  Italy            310  11.493979   3.265732   4.011660   19.886743\n",
            "                  Portugal          65  11.783061   3.230218   5.030209   18.431842\n",
            "                  Spain             76  11.751495   3.225130   5.413957   19.531041\n",
            "                  United States    205   9.707173   3.406739   3.667649   18.402847\n"
          ],
          "name": "stdout"
        }
      ]
    },
    {
      "cell_type": "code",
      "metadata": {
        "id": "hoMnJQjvSCeK",
        "colab": {
          "base_uri": "https://localhost:8080/",
          "height": 1000
        },
        "outputId": "e0071cd1-27dc-40a8-d828-266df47135dd"
      },
      "source": [
        "# Generically define how many plots along and across\n",
        "\n",
        "df = winedata_df\n",
        "categories = df.category.unique()\n",
        "categories = list(categories)\n",
        "categories.sort()\n",
        "\n",
        "ncols = 3\n",
        "nrows = int(np.ceil(len(categories) / (1.0*ncols)))\n",
        "\n",
        "fig, axes = plt.subplots(nrows=nrows, ncols=ncols, figsize=(20, 20))\n",
        "\n",
        "\n",
        "# Lazy counter so we can remove unwated axes\n",
        "counter = 0\n",
        "for i in range(nrows):\n",
        "  for j in range(ncols):\n",
        "    ax = axes[i][j]\n",
        "    # Plot when we have data\n",
        "    if counter < len(categories):\n",
        "      each_category = df[df['category'] == categories[counter]]['value_scaled']\n",
        "      ax.hist(each_category, bins=50, color='blue', alpha=0.5, label='{}'.format(each_category))\n",
        "      ax.set_xlabel(categories[counter])\n",
        "      ax.set_ylabel('Frequency')\n",
        "      #ax.set_ylim([0, 500])\n",
        "      ax.set_xlim([min(each_category), max(each_category)])        \n",
        "    # Remove axis when we no longer have data\n",
        "    else:\n",
        "      ax.set_axis_off()\n",
        "    counter += 1\n",
        "\n",
        "plt.show()"
      ],
      "execution_count": 37,
      "outputs": [
        {
          "output_type": "display_data",
          "data": {
            "image/png": "[encoded data removed]",
            "text/plain": [
              "<Figure size 1440x1440 with 18 Axes>"
            ]
          },
          "metadata": {
            "tags": [],
            "needs_background": "light"
          }
        }
      ]
    },
    {
      "cell_type": "markdown",
      "metadata": {
        "id": "q2ohKodpGYxc"
      },
      "source": [
        "**Inference** \n",
        "<br>\n",
        "Looking at the Frequency Histograms, we see that categories do not follow similar distributions: most are right-skewed,  some are uniformal and some are somewhat normally distributed. \n",
        "\n",
        "This is an important piece of information, because it will help us choose the most appropriate statistical method to work with. Also, the fact that right-skewed distributions are the most prevalent suggests us that low-value wines are the most frequent leading us to believe that knowing how to choose a bottle is an important skill! 🤓"
      ]
    },
    {
      "cell_type": "markdown",
      "metadata": {
        "id": "BIBxsGEd0m7U"
      },
      "source": [
        "## **Choosing the right test: Anova?**\n"
      ]
    },
    {
      "cell_type": "markdown",
      "metadata": {
        "id": "sKyDFc8M05kd"
      },
      "source": [
        "Our initial choice of statistical test has been Parametric Comparison and particularly Anova since it allows comparison of more than 2 groups. For this, 3 main assumptions need to be tested first:\n",
        "\n",
        "1) Independence of observations: this is already in place since we collected the data only once ✅\n",
        "\n",
        "2) Homogeneity of variance: is needed to be tested ❓\n",
        "\n",
        "3) Normality of data: is needed to be tested ❓"
      ]
    },
    {
      "cell_type": "markdown",
      "metadata": {
        "id": "T5VZqlgxlbk_"
      },
      "source": [
        "### Anova assumptions: Checking **Homogeneity Of Variance** using Levene's Test"
      ]
    },
    {
      "cell_type": "markdown",
      "metadata": {
        "id": "rNH-NkpV24bf"
      },
      "source": [
        "**Levene's test** is a statistical procedure for testing equality of variances between two or more sample populations.\n",
        "We are going to test if sample country populations have equality of variances inside their categories.\n",
        "\n"
      ]
    },
    {
      "cell_type": "markdown",
      "metadata": {
        "id": "CqpsNXlfoH-O"
      },
      "source": [
        "### Anova assumptions: Leneve test results and inferences"
      ]
    },
    {
      "cell_type": "code",
      "metadata": {
        "id": "Obf2BJ6awC_7"
      },
      "source": [
        "#parsing values to levene test\n",
        "levene_p_values = {}\n",
        "\n",
        "for category, value in values_per_category_nested_list.items():\n",
        "  if len(value) > 1: #excluding categories that have only 1 country representation\n",
        "    stat,p = levene(*value, )\n",
        "    levene_p_values[category] = round(p,3)"
      ],
      "execution_count": 38,
      "outputs": []
    },
    {
      "cell_type": "code",
      "metadata": {
        "id": "xGpOQlc8n1pn",
        "colab": {
          "base_uri": "https://localhost:8080/",
          "height": 489
        },
        "outputId": "b8fe5fa2-32b6-4cf3-cc51-06bda23a3dd1"
      },
      "source": [
        "results_leneve = pd.DataFrame.from_dict(levene_p_values, orient = 'index', columns=['P-Value'])\n",
        "results_leneve"
      ],
      "execution_count": 39,
      "outputs": [
        {
          "output_type": "execute_result",
          "data": {
            "text/html": [
              "<div>\n",
              "<style scoped>\n",
              "    .dataframe tbody tr th:only-of-type {\n",
              "        vertical-align: middle;\n",
              "    }\n",
              "\n",
              "    .dataframe tbody tr th {\n",
              "        vertical-align: top;\n",
              "    }\n",
              "\n",
              "    .dataframe thead th {\n",
              "        text-align: right;\n",
              "    }\n",
              "</style>\n",
              "<table border=\"1\" class=\"dataframe\">\n",
              "  <thead>\n",
              "    <tr style=\"text-align: right;\">\n",
              "      <th></th>\n",
              "      <th>P-Value</th>\n",
              "    </tr>\n",
              "  </thead>\n",
              "  <tbody>\n",
              "    <tr>\n",
              "      <th>Red-Low</th>\n",
              "      <td>0.000</td>\n",
              "    </tr>\n",
              "    <tr>\n",
              "      <th>Rose-Low</th>\n",
              "      <td>0.037</td>\n",
              "    </tr>\n",
              "    <tr>\n",
              "      <th>White-Low</th>\n",
              "      <td>0.000</td>\n",
              "    </tr>\n",
              "    <tr>\n",
              "      <th>Sparkling-Low</th>\n",
              "      <td>0.017</td>\n",
              "    </tr>\n",
              "    <tr>\n",
              "      <th>White-Medium</th>\n",
              "      <td>0.000</td>\n",
              "    </tr>\n",
              "    <tr>\n",
              "      <th>Red-Medium</th>\n",
              "      <td>0.000</td>\n",
              "    </tr>\n",
              "    <tr>\n",
              "      <th>Sparkling-Medium</th>\n",
              "      <td>0.000</td>\n",
              "    </tr>\n",
              "    <tr>\n",
              "      <th>Rose-Medium</th>\n",
              "      <td>0.010</td>\n",
              "    </tr>\n",
              "    <tr>\n",
              "      <th>Sparkling-Premium</th>\n",
              "      <td>0.005</td>\n",
              "    </tr>\n",
              "    <tr>\n",
              "      <th>Red-Premium</th>\n",
              "      <td>0.000</td>\n",
              "    </tr>\n",
              "    <tr>\n",
              "      <th>White-Premium</th>\n",
              "      <td>0.000</td>\n",
              "    </tr>\n",
              "    <tr>\n",
              "      <th>Dessert-Premium</th>\n",
              "      <td>0.142</td>\n",
              "    </tr>\n",
              "    <tr>\n",
              "      <th>White-Luxury</th>\n",
              "      <td>0.002</td>\n",
              "    </tr>\n",
              "    <tr>\n",
              "      <th>Red-Luxury</th>\n",
              "      <td>0.000</td>\n",
              "    </tr>\n",
              "  </tbody>\n",
              "</table>\n",
              "</div>"
            ],
            "text/plain": [
              "                   P-Value\n",
              "Red-Low              0.000\n",
              "Rose-Low             0.037\n",
              "White-Low            0.000\n",
              "Sparkling-Low        0.017\n",
              "White-Medium         0.000\n",
              "Red-Medium           0.000\n",
              "Sparkling-Medium     0.000\n",
              "Rose-Medium          0.010\n",
              "Sparkling-Premium    0.005\n",
              "Red-Premium          0.000\n",
              "White-Premium        0.000\n",
              "Dessert-Premium      0.142\n",
              "White-Luxury         0.002\n",
              "Red-Luxury           0.000"
            ]
          },
          "metadata": {
            "tags": []
          },
          "execution_count": 39
        }
      ]
    },
    {
      "cell_type": "markdown",
      "metadata": {
        "id": "wn_BRGlcoRGj"
      },
      "source": [
        "**Low P-values (<0.05)** in Leneve's test represent that population groups **are not following equal variances** ❌. This however can be counterbalanced if the sample sizes are similar along the groups, which as we see from descriptive statistics, is not true as well ❌. Therefore, we will detour from our initial plan to run Anova tests and in opposite, will choose **non-parametric** tests where this 3 main assumptions are not needed to be in place. For this, we chose **kruskal's test**."
      ]
    },
    {
      "cell_type": "markdown",
      "metadata": {
        "id": "RykZ9WyMtv7G"
      },
      "source": [
        "## **Kruskal–Wallis nonparametric tests**"
      ]
    },
    {
      "cell_type": "markdown",
      "metadata": {
        "id": "piW4UF7qp0vj"
      },
      "source": [
        "### Introduction & Assumptions"
      ]
    },
    {
      "cell_type": "markdown",
      "metadata": {
        "id": "C9j0WO6WqTdy"
      },
      "source": [
        "The Kruskal-Wallis H test is a rank-based nonparametric test that can be used to determine if there are statistically significant differences between two or more groups of an independent variable on a dependent variable.\n",
        "\n",
        "Kruskal's test has 3 main assumptions that I will quickly cover below how it fits to our case:\n",
        "- Assumption #1: dependent variable should be measured at the ordinal or continuous level - True **✅**\n",
        "- Assumption #2: independent variable should consist of two or more categorical, independent groups - True  **✅**\n",
        "- Assumption #3: researcher should have independence of observations - True  **✅**\n",
        "\n",
        "Therefore, we will be proceeding with this test below."
      ]
    },
    {
      "cell_type": "markdown",
      "metadata": {
        "id": "GS3LCLuRswCN"
      },
      "source": [
        "### Results and Inferences"
      ]
    },
    {
      "cell_type": "code",
      "metadata": {
        "id": "Nu14UsbZnVym",
        "colab": {
          "base_uri": "https://localhost:8080/",
          "height": 489
        },
        "outputId": "1d6d04a8-e0c0-4202-9a44-5272a333d5f3"
      },
      "source": [
        "#parsing category_category values to kruskal test\n",
        "kruskal_p_values = {}\n",
        "\n",
        "for category,value in values_per_category_nested_list.items():\n",
        "  if len(value) > 1:\n",
        "    stat,p = kruskal(*value)\n",
        "    kruskal_p_values[category] = round(p,2)\n",
        "\n",
        "kruskal_df = pd.DataFrame.from_dict(kruskal_p_values, orient = 'index', columns=['P-Value'])\n",
        "kruskal_df"
      ],
      "execution_count": 40,
      "outputs": [
        {
          "output_type": "execute_result",
          "data": {
            "text/html": [
              "<div>\n",
              "<style scoped>\n",
              "    .dataframe tbody tr th:only-of-type {\n",
              "        vertical-align: middle;\n",
              "    }\n",
              "\n",
              "    .dataframe tbody tr th {\n",
              "        vertical-align: top;\n",
              "    }\n",
              "\n",
              "    .dataframe thead th {\n",
              "        text-align: right;\n",
              "    }\n",
              "</style>\n",
              "<table border=\"1\" class=\"dataframe\">\n",
              "  <thead>\n",
              "    <tr style=\"text-align: right;\">\n",
              "      <th></th>\n",
              "      <th>P-Value</th>\n",
              "    </tr>\n",
              "  </thead>\n",
              "  <tbody>\n",
              "    <tr>\n",
              "      <th>Red-Low</th>\n",
              "      <td>0.00</td>\n",
              "    </tr>\n",
              "    <tr>\n",
              "      <th>Rose-Low</th>\n",
              "      <td>0.00</td>\n",
              "    </tr>\n",
              "    <tr>\n",
              "      <th>White-Low</th>\n",
              "      <td>0.00</td>\n",
              "    </tr>\n",
              "    <tr>\n",
              "      <th>Sparkling-Low</th>\n",
              "      <td>0.09</td>\n",
              "    </tr>\n",
              "    <tr>\n",
              "      <th>White-Medium</th>\n",
              "      <td>0.00</td>\n",
              "    </tr>\n",
              "    <tr>\n",
              "      <th>Red-Medium</th>\n",
              "      <td>0.00</td>\n",
              "    </tr>\n",
              "    <tr>\n",
              "      <th>Sparkling-Medium</th>\n",
              "      <td>0.00</td>\n",
              "    </tr>\n",
              "    <tr>\n",
              "      <th>Rose-Medium</th>\n",
              "      <td>0.00</td>\n",
              "    </tr>\n",
              "    <tr>\n",
              "      <th>Sparkling-Premium</th>\n",
              "      <td>0.00</td>\n",
              "    </tr>\n",
              "    <tr>\n",
              "      <th>Red-Premium</th>\n",
              "      <td>0.00</td>\n",
              "    </tr>\n",
              "    <tr>\n",
              "      <th>White-Premium</th>\n",
              "      <td>0.00</td>\n",
              "    </tr>\n",
              "    <tr>\n",
              "      <th>Dessert-Premium</th>\n",
              "      <td>0.00</td>\n",
              "    </tr>\n",
              "    <tr>\n",
              "      <th>White-Luxury</th>\n",
              "      <td>0.00</td>\n",
              "    </tr>\n",
              "    <tr>\n",
              "      <th>Red-Luxury</th>\n",
              "      <td>0.00</td>\n",
              "    </tr>\n",
              "  </tbody>\n",
              "</table>\n",
              "</div>"
            ],
            "text/plain": [
              "                   P-Value\n",
              "Red-Low               0.00\n",
              "Rose-Low              0.00\n",
              "White-Low             0.00\n",
              "Sparkling-Low         0.09\n",
              "White-Medium          0.00\n",
              "Red-Medium            0.00\n",
              "Sparkling-Medium      0.00\n",
              "Rose-Medium           0.00\n",
              "Sparkling-Premium     0.00\n",
              "Red-Premium           0.00\n",
              "White-Premium         0.00\n",
              "Dessert-Premium       0.00\n",
              "White-Luxury          0.00\n",
              "Red-Luxury            0.00"
            ]
          },
          "metadata": {
            "tags": []
          },
          "execution_count": 40
        }
      ]
    },
    {
      "cell_type": "markdown",
      "metadata": {
        "id": "bdu_zpJQs0bx"
      },
      "source": [
        "The extremely low p-values showed that test indeed suggested statistically significant differneces between population group means inside categories. \n",
        "Categories that showed P-values more than 0.05 will be dropped."
      ]
    },
    {
      "cell_type": "code",
      "metadata": {
        "id": "Rtnpk3lCfqP6",
        "colab": {
          "base_uri": "https://localhost:8080/"
        },
        "outputId": "f637d891-5d59-475c-dd74-a0ecb8460435"
      },
      "source": [
        "winedata_df.shape"
      ],
      "execution_count": 41,
      "outputs": [
        {
          "output_type": "execute_result",
          "data": {
            "text/plain": [
              "(24300, 23)"
            ]
          },
          "metadata": {
            "tags": []
          },
          "execution_count": 41
        }
      ]
    },
    {
      "cell_type": "code",
      "metadata": {
        "id": "1tLawDeJczq1"
      },
      "source": [
        "kruskal_high_p_categories = kruskal_df[kruskal_df['P-Value'] > 0.05].reset_index()\n",
        "kruskal_high_p_categories = list(kruskal_high_p_categories['index'])\n",
        "\n",
        "has_row_high_p = winedata_df['category'].isin(kruskal_high_p_categories)\n",
        "winedata_df = winedata_df[~has_row_high_p]"
      ],
      "execution_count": 42,
      "outputs": []
    },
    {
      "cell_type": "code",
      "metadata": {
        "id": "1asfbyiffs4T",
        "colab": {
          "base_uri": "https://localhost:8080/"
        },
        "outputId": "8bb99edc-122a-4aef-f064-43a65e1c0d39"
      },
      "source": [
        "winedata_df.shape"
      ],
      "execution_count": 43,
      "outputs": [
        {
          "output_type": "execute_result",
          "data": {
            "text/plain": [
              "(23788, 23)"
            ]
          },
          "metadata": {
            "tags": []
          },
          "execution_count": 43
        }
      ]
    },
    {
      "cell_type": "markdown",
      "metadata": {
        "id": "UDqeW1fAtGZl"
      },
      "source": [
        "## **Post-Hoc analysis using Conover's Test**"
      ]
    },
    {
      "cell_type": "markdown",
      "metadata": {
        "id": "753BVp9ye6N4"
      },
      "source": [
        "### **Introduction**"
      ]
    },
    {
      "cell_type": "markdown",
      "metadata": {
        "id": "Cy8_Pm--e_vB"
      },
      "source": [
        "From **Kruskal–Wallis** nonparametric tests we found out that there was a high statistical significance of different means for each category (except of 2 which were dropped). However, we were unable to understand between which country groups this relationship existed specifically for each category. For instance, we could not tell e.g. in category \"Red-Low\" (referring to red wine and low price category), whether we had statistically significant mean differences between France and Germany or France and Spain, or France and Italy, etc. To understand these relationships between groups, Post-Hoc analysis using **Conover's Test** will be performed."
      ]
    },
    {
      "cell_type": "markdown",
      "metadata": {
        "id": "XUB8bpSX5MBs"
      },
      "source": [
        "### **Modeling**"
      ]
    },
    {
      "cell_type": "code",
      "metadata": {
        "id": "0Nr2uMLAyY1v"
      },
      "source": [
        "def conover_signific_plots(category):\n",
        "  try:\n",
        "    category_df = winedata_df[winedata_df['category'] == category]\n",
        "    pc = sp.posthoc_conover(category_df, val_col = 'value_scaled', group_col = 'country')\n",
        "    heatmap_args = {'linewidths': 0.1, 'linecolor': '0.5', 'clip_on': False, 'square': True, 'cbar_ax_bbox': [0.80, 0.35, 0.04, 0.3]}\n",
        "    sp.sign_plot(pc, **heatmap_args)\n",
        "  except ZeroDivisionError:\n",
        "    print('Only a single country was represented for this category.')"
      ],
      "execution_count": 44,
      "outputs": []
    },
    {
      "cell_type": "markdown",
      "metadata": {
        "id": "AGCAU6qbw2ZM"
      },
      "source": [
        "### **Results**"
      ]
    },
    {
      "cell_type": "code",
      "metadata": {
        "colab": {
          "base_uri": "https://localhost:8080/",
          "height": 452
        },
        "id": "uy3rPuUCAMB4",
        "outputId": "6f010fb7-b9a0-4634-c66e-c7375957e85d"
      },
      "source": [
        "winedata_df.head()"
      ],
      "execution_count": 45,
      "outputs": [
        {
          "output_type": "execute_result",
          "data": {
            "text/html": [
              "<div>\n",
              "<style scoped>\n",
              "    .dataframe tbody tr th:only-of-type {\n",
              "        vertical-align: middle;\n",
              "    }\n",
              "\n",
              "    .dataframe tbody tr th {\n",
              "        vertical-align: top;\n",
              "    }\n",
              "\n",
              "    .dataframe thead th {\n",
              "        text-align: right;\n",
              "    }\n",
              "</style>\n",
              "<table border=\"1\" class=\"dataframe\">\n",
              "  <thead>\n",
              "    <tr style=\"text-align: right;\">\n",
              "      <th></th>\n",
              "      <th>catalog</th>\n",
              "      <th>wine_type</th>\n",
              "      <th>winery</th>\n",
              "      <th>grape</th>\n",
              "      <th>harvest_year</th>\n",
              "      <th>country</th>\n",
              "      <th>region</th>\n",
              "      <th>price</th>\n",
              "      <th>price_category</th>\n",
              "      <th>rating_avg</th>\n",
              "      <th>count_reviews_per_wine</th>\n",
              "      <th>value_original</th>\n",
              "      <th>category</th>\n",
              "      <th>link</th>\n",
              "      <th>country_iso3</th>\n",
              "      <th>group</th>\n",
              "      <th>avg_revs_cat</th>\n",
              "      <th>std_revs_cat</th>\n",
              "      <th>Zscore_count_reviews_per_wine</th>\n",
              "      <th>Z_scaling_factor</th>\n",
              "      <th>R_Z_scaling_factor</th>\n",
              "      <th>value_scaled</th>\n",
              "      <th>difference_values</th>\n",
              "    </tr>\n",
              "  </thead>\n",
              "  <tbody>\n",
              "    <tr>\n",
              "      <th>0</th>\n",
              "      <td>red_portugal</td>\n",
              "      <td>red</td>\n",
              "      <td>Bacalhôa</td>\n",
              "      <td>Alentejano Monte das Ânforas Tinto</td>\n",
              "      <td>2014</td>\n",
              "      <td>Portugal</td>\n",
              "      <td>Alentejano</td>\n",
              "      <td>1.85</td>\n",
              "      <td>Low</td>\n",
              "      <td>3.4</td>\n",
              "      <td>740</td>\n",
              "      <td>183.78</td>\n",
              "      <td>Red-Low</td>\n",
              "      <td>https://www.vivino.com/bacalhoa-vinhos-de-port...</td>\n",
              "      <td>PRT</td>\n",
              "      <td>Portugal-Red-Low</td>\n",
              "      <td>691.690859</td>\n",
              "      <td>2040.767690</td>\n",
              "      <td>0.023672</td>\n",
              "      <td>1.004701</td>\n",
              "      <td>3.415983</td>\n",
              "      <td>184.647716</td>\n",
              "      <td>0.867716</td>\n",
              "    </tr>\n",
              "    <tr>\n",
              "      <th>1</th>\n",
              "      <td>red_portugal</td>\n",
              "      <td>red</td>\n",
              "      <td>AR - Adega de Redondo</td>\n",
              "      <td>Porta Da Ravessa Alentejo Tinto</td>\n",
              "      <td>2017</td>\n",
              "      <td>Portugal</td>\n",
              "      <td>Alentejo</td>\n",
              "      <td>2.39</td>\n",
              "      <td>Low</td>\n",
              "      <td>3.4</td>\n",
              "      <td>1016</td>\n",
              "      <td>142.26</td>\n",
              "      <td>Red-Low</td>\n",
              "      <td>https://www.vivino.com/adega-cooperativa-de-re...</td>\n",
              "      <td>PRT</td>\n",
              "      <td>Portugal-Red-Low</td>\n",
              "      <td>691.690859</td>\n",
              "      <td>2040.767690</td>\n",
              "      <td>0.158915</td>\n",
              "      <td>1.030276</td>\n",
              "      <td>3.502938</td>\n",
              "      <td>146.566456</td>\n",
              "      <td>4.306456</td>\n",
              "    </tr>\n",
              "    <tr>\n",
              "      <th>2</th>\n",
              "      <td>red_portugal</td>\n",
              "      <td>red</td>\n",
              "      <td>AR - Adega de Redondo</td>\n",
              "      <td>Porta Da Ravessa Alentejo Tinto</td>\n",
              "      <td>2018</td>\n",
              "      <td>Portugal</td>\n",
              "      <td>Alentejo</td>\n",
              "      <td>2.39</td>\n",
              "      <td>Low</td>\n",
              "      <td>3.4</td>\n",
              "      <td>479</td>\n",
              "      <td>142.26</td>\n",
              "      <td>Red-Low</td>\n",
              "      <td>https://www.vivino.com/adega-cooperativa-de-re...</td>\n",
              "      <td>PRT</td>\n",
              "      <td>Portugal-Red-Low</td>\n",
              "      <td>691.690859</td>\n",
              "      <td>2040.767690</td>\n",
              "      <td>-0.104221</td>\n",
              "      <td>0.978503</td>\n",
              "      <td>3.326911</td>\n",
              "      <td>139.201282</td>\n",
              "      <td>-3.058718</td>\n",
              "    </tr>\n",
              "    <tr>\n",
              "      <th>3</th>\n",
              "      <td>Rose</td>\n",
              "      <td>rose</td>\n",
              "      <td>Canals &amp; Nubiola</td>\n",
              "      <td>Rosado</td>\n",
              "      <td>No Year Detected</td>\n",
              "      <td>Spain</td>\n",
              "      <td>Catalunya</td>\n",
              "      <td>2.65</td>\n",
              "      <td>Low</td>\n",
              "      <td>2.9</td>\n",
              "      <td>360</td>\n",
              "      <td>109.43</td>\n",
              "      <td>Rose-Low</td>\n",
              "      <td>https://www.vivino.com/canals-and-nubiola-rosa...</td>\n",
              "      <td>ESP</td>\n",
              "      <td>Spain-Rose-Low</td>\n",
              "      <td>714.814318</td>\n",
              "      <td>1478.864241</td>\n",
              "      <td>-0.239924</td>\n",
              "      <td>0.948559</td>\n",
              "      <td>2.750822</td>\n",
              "      <td>103.804599</td>\n",
              "      <td>-5.625401</td>\n",
              "    </tr>\n",
              "    <tr>\n",
              "      <th>4</th>\n",
              "      <td>red_portugal</td>\n",
              "      <td>red</td>\n",
              "      <td>Alfacinha</td>\n",
              "      <td>Tinto</td>\n",
              "      <td>2018</td>\n",
              "      <td>Portugal</td>\n",
              "      <td>Lisboa</td>\n",
              "      <td>2.80</td>\n",
              "      <td>Low</td>\n",
              "      <td>3.5</td>\n",
              "      <td>385</td>\n",
              "      <td>125.00</td>\n",
              "      <td>Red-Low</td>\n",
              "      <td>https://www.vivino.com/alfacinha-tinto/w/68775...</td>\n",
              "      <td>PRT</td>\n",
              "      <td>Portugal-Red-Low</td>\n",
              "      <td>691.690859</td>\n",
              "      <td>2040.767690</td>\n",
              "      <td>-0.150282</td>\n",
              "      <td>0.968586</td>\n",
              "      <td>3.390052</td>\n",
              "      <td>121.073301</td>\n",
              "      <td>-3.926699</td>\n",
              "    </tr>\n",
              "  </tbody>\n",
              "</table>\n",
              "</div>"
            ],
            "text/plain": [
              "        catalog wine_type  ... value_scaled difference_values\n",
              "0  red_portugal       red  ...   184.647716          0.867716\n",
              "1  red_portugal       red  ...   146.566456          4.306456\n",
              "2  red_portugal       red  ...   139.201282         -3.058718\n",
              "3          Rose      rose  ...   103.804599         -5.625401\n",
              "4  red_portugal       red  ...   121.073301         -3.926699\n",
              "\n",
              "[5 rows x 23 columns]"
            ]
          },
          "metadata": {
            "tags": []
          },
          "execution_count": 45
        }
      ]
    },
    {
      "cell_type": "code",
      "metadata": {
        "colab": {
          "base_uri": "https://localhost:8080/"
        },
        "id": "PcaShbSB970R",
        "outputId": "1b61ae97-ac1d-4154-884c-4c270be5f046"
      },
      "source": [
        "v = winedata_df.groupby(by=['category','country'])['value_scaled'].agg(counts='count', mean ='mean',median='median').round(0).reset_index()\n",
        "print(v)"
      ],
      "execution_count": 46,
      "outputs": [
        {
          "output_type": "stream",
          "text": [
            "           category        country  counts  mean  median\n",
            "0    Dessert-Medium         France      67  22.0    21.0\n",
            "1   Dessert-Premium         France     240   9.0     9.0\n",
            "2   Dessert-Premium          Italy      51  11.0    11.0\n",
            "3           Red-Low      Argentina     114  47.0    45.0\n",
            "4           Red-Low      Australia     130  44.0    40.0\n",
            "..              ...            ...     ...   ...     ...\n",
            "76    White-Premium        Germany     328  10.0    10.0\n",
            "77    White-Premium          Italy     310  11.0    12.0\n",
            "78    White-Premium       Portugal      65  12.0    12.0\n",
            "79    White-Premium          Spain      76  12.0    12.0\n",
            "80    White-Premium  United States     205  10.0     9.0\n",
            "\n",
            "[81 rows x 5 columns]\n"
          ],
          "name": "stdout"
        }
      ]
    },
    {
      "cell_type": "markdown",
      "metadata": {
        "id": "BekSAhcHxugr"
      },
      "source": [
        "####Category: Red-Low"
      ]
    },
    {
      "cell_type": "code",
      "metadata": {
        "colab": {
          "base_uri": "https://localhost:8080/",
          "height": 321
        },
        "id": "_qT_Xv5304iw",
        "outputId": "f134201d-bbc2-4527-ded5-0c295b8a4baa"
      },
      "source": [
        "conover_signific_plots('Red-Low')\n",
        "print(\"All countries show statistically significant relationships with majority of other groups\")"
      ],
      "execution_count": 47,
      "outputs": [
        {
          "output_type": "stream",
          "text": [
            "All countries show statistically significant relationships with majority of other groups\n"
          ],
          "name": "stdout"
        },
        {
          "output_type": "display_data",
          "data": {
            "image/png": "[encoded data removed]",
            "text/plain": [
              "<Figure size 432x288 with 2 Axes>"
            ]
          },
          "metadata": {
            "tags": [],
            "needs_background": "light"
          }
        }
      ]
    },
    {
      "cell_type": "markdown",
      "metadata": {
        "id": "12Hn9KqF1JrN"
      },
      "source": [
        "####Category:Red-Medium"
      ]
    },
    {
      "cell_type": "code",
      "metadata": {
        "colab": {
          "base_uri": "https://localhost:8080/",
          "height": 340
        },
        "id": "wNGPg_wG2imT",
        "outputId": "e36bb6bc-0cc5-44d4-c289-45de5fba4301"
      },
      "source": [
        "conover_signific_plots('Red-Medium')\n",
        "print(\"All countries show statistically significant relationships with majority of other groups\")"
      ],
      "execution_count": 48,
      "outputs": [
        {
          "output_type": "stream",
          "text": [
            "All countries show statistically significant relationships with majority of other groups\n"
          ],
          "name": "stdout"
        },
        {
          "output_type": "display_data",
          "data": {
            "image/png": "[encoded data removed]",
            "text/plain": [
              "<Figure size 432x288 with 2 Axes>"
            ]
          },
          "metadata": {
            "tags": [],
            "needs_background": "light"
          }
        }
      ]
    },
    {
      "cell_type": "markdown",
      "metadata": {
        "id": "RkSfzksG1b2s"
      },
      "source": [
        "####Category:Red-Premium"
      ]
    },
    {
      "cell_type": "code",
      "metadata": {
        "colab": {
          "base_uri": "https://localhost:8080/",
          "height": 340
        },
        "id": "u_hb10tX2kKh",
        "outputId": "2125e764-c099-4424-ceca-d9a219faa216"
      },
      "source": [
        "conover_signific_plots('Red-Premium')\n",
        "print(\"Germany, Italy, Portugal, Spain, USA and Argentina do not show statistically significant relationships\")"
      ],
      "execution_count": 49,
      "outputs": [
        {
          "output_type": "stream",
          "text": [
            "Germany, Italy, Portugal, Spain, USA and Argentina do not show statistically significant relationships\n"
          ],
          "name": "stdout"
        },
        {
          "output_type": "display_data",
          "data": {
            "image/png": "[encoded data removed]",
            "text/plain": [
              "<Figure size 432x288 with 2 Axes>"
            ]
          },
          "metadata": {
            "tags": [],
            "needs_background": "light"
          }
        }
      ]
    },
    {
      "cell_type": "markdown",
      "metadata": {
        "id": "CgXGTH-F1eCj"
      },
      "source": [
        "#### Category:Red-Luxury"
      ]
    },
    {
      "cell_type": "code",
      "metadata": {
        "colab": {
          "base_uri": "https://localhost:8080/",
          "height": 282
        },
        "id": "EAc9X9Pd2k4m",
        "outputId": "ee809b55-b500-4016-ad95-be1f68a50ce4"
      },
      "source": [
        "conover_signific_plots('Red-Luxury')\n",
        "print(\"No countries show statistically significant relationships with majority of other groups - whole category will be dropped\")"
      ],
      "execution_count": 50,
      "outputs": [
        {
          "output_type": "stream",
          "text": [
            "No countries show statistically significant relationships with majority of other groups - whole category will be dropped\n"
          ],
          "name": "stdout"
        },
        {
          "output_type": "display_data",
          "data": {
            "image/png": "[encoded data removed]",
            "text/plain": [
              "<Figure size 432x288 with 2 Axes>"
            ]
          },
          "metadata": {
            "tags": [],
            "needs_background": "light"
          }
        }
      ]
    },
    {
      "cell_type": "markdown",
      "metadata": {
        "id": "L65yNHGW1oZz"
      },
      "source": [
        "####Category:White-Low"
      ]
    },
    {
      "cell_type": "code",
      "metadata": {
        "colab": {
          "base_uri": "https://localhost:8080/",
          "height": 321
        },
        "id": "3EBQVRjo2mHA",
        "outputId": "5b7fcd61-79c6-477b-ad56-789992d6b168"
      },
      "source": [
        "conover_signific_plots('White-Low')\n",
        "print(\"All countries show statistically significant relationships with majority of other groups\")"
      ],
      "execution_count": 51,
      "outputs": [
        {
          "output_type": "stream",
          "text": [
            "All countries show statistically significant relationships with majority of other groups\n"
          ],
          "name": "stdout"
        },
        {
          "output_type": "display_data",
          "data": {
            "image/png": "[encoded data removed]",
            "text/plain": [
              "<Figure size 432x288 with 2 Axes>"
            ]
          },
          "metadata": {
            "tags": [],
            "needs_background": "light"
          }
        }
      ]
    },
    {
      "cell_type": "markdown",
      "metadata": {
        "id": "JkDzxQ7h1oZz"
      },
      "source": [
        "####Category:White-Medium"
      ]
    },
    {
      "cell_type": "code",
      "metadata": {
        "colab": {
          "base_uri": "https://localhost:8080/",
          "height": 340
        },
        "id": "1rO7r0AM2mxz",
        "outputId": "368f52fd-ec99-44cf-d35f-03e6984b45f3"
      },
      "source": [
        "conover_signific_plots('White-Medium')\n",
        "print(\"Except of USA, all countries show statistically significant relationships with majority of other groups\")"
      ],
      "execution_count": 52,
      "outputs": [
        {
          "output_type": "stream",
          "text": [
            "Except of USA, all countries show statistically significant relationships with majority of other groups\n"
          ],
          "name": "stdout"
        },
        {
          "output_type": "display_data",
          "data": {
            "image/png": "[encoded data removed]",
            "text/plain": [
              "<Figure size 432x288 with 2 Axes>"
            ]
          },
          "metadata": {
            "tags": [],
            "needs_background": "light"
          }
        }
      ]
    },
    {
      "cell_type": "markdown",
      "metadata": {
        "id": "7QetzIWf1oZz"
      },
      "source": [
        "####Category:White-Premium"
      ]
    },
    {
      "cell_type": "code",
      "metadata": {
        "colab": {
          "base_uri": "https://localhost:8080/",
          "height": 340
        },
        "id": "9i412X1t2nZR",
        "outputId": "79372775-8d8e-413e-95b5-37e7544abeb9"
      },
      "source": [
        "conover_signific_plots('White-Premium')\n",
        "print(\"All countries show statistically significant relationships with majority of other groups\")"
      ],
      "execution_count": 53,
      "outputs": [
        {
          "output_type": "stream",
          "text": [
            "All countries show statistically significant relationships with majority of other groups\n"
          ],
          "name": "stdout"
        },
        {
          "output_type": "display_data",
          "data": {
            "image/png": "[encoded data removed]",
            "text/plain": [
              "<Figure size 432x288 with 2 Axes>"
            ]
          },
          "metadata": {
            "tags": [],
            "needs_background": "light"
          }
        }
      ]
    },
    {
      "cell_type": "markdown",
      "metadata": {
        "id": "2yENODRC3dcx"
      },
      "source": [
        "####Category:White-Luxury"
      ]
    },
    {
      "cell_type": "code",
      "metadata": {
        "colab": {
          "base_uri": "https://localhost:8080/",
          "height": 282
        },
        "id": "IObKdN624Q4B",
        "outputId": "e5a81cd9-0b90-4e0e-8fe8-ef90f9f82fac"
      },
      "source": [
        "conover_signific_plots('White-Luxury')\n",
        "print(\"All countries show statistically significant relationships\")"
      ],
      "execution_count": 54,
      "outputs": [
        {
          "output_type": "stream",
          "text": [
            "All countries show statistically significant relationships\n"
          ],
          "name": "stdout"
        },
        {
          "output_type": "display_data",
          "data": {
            "image/png": "[encoded data removed]",
            "text/plain": [
              "<Figure size 432x288 with 2 Axes>"
            ]
          },
          "metadata": {
            "tags": [],
            "needs_background": "light"
          }
        }
      ]
    },
    {
      "cell_type": "markdown",
      "metadata": {
        "id": "_IR-OtWD15Lh"
      },
      "source": [
        "####Category:Rose-Low"
      ]
    },
    {
      "cell_type": "code",
      "metadata": {
        "colab": {
          "base_uri": "https://localhost:8080/",
          "height": 282
        },
        "id": "Rtw2SUjJ2oyn",
        "outputId": "3e2ea863-738f-46a6-9024-5277f84096d3"
      },
      "source": [
        "conover_signific_plots('Rose-Low')\n",
        "print(\"No countries show statistically significant relationships with majority of other groups - whole category will be dropped\")"
      ],
      "execution_count": 55,
      "outputs": [
        {
          "output_type": "stream",
          "text": [
            "No countries show statistically significant relationships with majority of other groups - whole category will be dropped\n"
          ],
          "name": "stdout"
        },
        {
          "output_type": "display_data",
          "data": {
            "image/png": "[encoded data removed]",
            "text/plain": [
              "<Figure size 432x288 with 2 Axes>"
            ]
          },
          "metadata": {
            "tags": [],
            "needs_background": "light"
          }
        }
      ]
    },
    {
      "cell_type": "markdown",
      "metadata": {
        "id": "HA8ApmO615Lh"
      },
      "source": [
        "####Category:Rose-Medium"
      ]
    },
    {
      "cell_type": "code",
      "metadata": {
        "colab": {
          "base_uri": "https://localhost:8080/",
          "height": 282
        },
        "id": "lnHo-aC_2pdr",
        "outputId": "7cfa0461-050c-41d5-ae2a-c37096b8ccf5"
      },
      "source": [
        "conover_signific_plots('Rose-Medium')\n",
        "print(\"Not enough competition - whole category will be dropped\")"
      ],
      "execution_count": 56,
      "outputs": [
        {
          "output_type": "stream",
          "text": [
            "Not enough competition - whole category will be dropped\n"
          ],
          "name": "stdout"
        },
        {
          "output_type": "display_data",
          "data": {
            "image/png": "[encoded data removed]",
            "text/plain": [
              "<Figure size 432x288 with 2 Axes>"
            ]
          },
          "metadata": {
            "tags": [],
            "needs_background": "light"
          }
        }
      ]
    },
    {
      "cell_type": "markdown",
      "metadata": {
        "id": "jJoRnEmJ15Lh"
      },
      "source": [
        "#### Category:Rose-Luxury"
      ]
    },
    {
      "cell_type": "code",
      "metadata": {
        "colab": {
          "base_uri": "https://localhost:8080/"
        },
        "id": "NLaXkjQC2qBw",
        "outputId": "82690eff-759c-469f-ad29-0a1a33c3df9f"
      },
      "source": [
        "conover_signific_plots('Rose-Luxury')"
      ],
      "execution_count": 57,
      "outputs": [
        {
          "output_type": "stream",
          "text": [
            "Only a single country was represented for this category.\n"
          ],
          "name": "stdout"
        }
      ]
    },
    {
      "cell_type": "markdown",
      "metadata": {
        "id": "-xeFBCos2Wbo"
      },
      "source": [
        "####Category:Sparkling-Low"
      ]
    },
    {
      "cell_type": "code",
      "metadata": {
        "colab": {
          "base_uri": "https://localhost:8080/"
        },
        "id": "KXeE95Fy2qzH",
        "outputId": "d8e502f9-6592-4cd5-e17d-cd53b090c729"
      },
      "source": [
        "conover_signific_plots('Sparkling-Low')"
      ],
      "execution_count": 58,
      "outputs": [
        {
          "output_type": "stream",
          "text": [
            "Only a single country was represented for this category.\n"
          ],
          "name": "stdout"
        }
      ]
    },
    {
      "cell_type": "markdown",
      "metadata": {
        "id": "GnJv9VaW2Wbp"
      },
      "source": [
        "####Category:Sparkling-Medium"
      ]
    },
    {
      "cell_type": "code",
      "metadata": {
        "colab": {
          "base_uri": "https://localhost:8080/",
          "height": 301
        },
        "id": "AIu_9a_x2rsh",
        "outputId": "fd4fe301-17fe-4269-d9c5-bc5d70766825"
      },
      "source": [
        "conover_signific_plots('Sparkling-Medium')"
      ],
      "execution_count": 59,
      "outputs": [
        {
          "output_type": "display_data",
          "data": {
            "image/png": "[encoded data removed]",
            "text/plain": [
              "<Figure size 432x288 with 2 Axes>"
            ]
          },
          "metadata": {
            "tags": [],
            "needs_background": "light"
          }
        }
      ]
    },
    {
      "cell_type": "markdown",
      "metadata": {
        "id": "HqQPu_cH2Wbp"
      },
      "source": [
        "####Category:Sparkling-Premium"
      ]
    },
    {
      "cell_type": "code",
      "metadata": {
        "colab": {
          "base_uri": "https://localhost:8080/",
          "height": 265
        },
        "id": "L000617Q2sTe",
        "outputId": "c9a18f95-f297-46ae-bc8b-78faf096012c"
      },
      "source": [
        "conover_signific_plots('Sparkling-Premium')"
      ],
      "execution_count": 60,
      "outputs": [
        {
          "output_type": "display_data",
          "data": {
            "image/png": "[encoded data removed]",
            "text/plain": [
              "<Figure size 432x288 with 2 Axes>"
            ]
          },
          "metadata": {
            "tags": [],
            "needs_background": "light"
          }
        }
      ]
    },
    {
      "cell_type": "markdown",
      "metadata": {
        "id": "GD9KKRKB4vOB"
      },
      "source": [
        "##**Inferences**"
      ]
    },
    {
      "cell_type": "markdown",
      "metadata": {
        "id": "i9wxnjZ7JaO-"
      },
      "source": [
        "After running Kruskal's and Conover's tests, we will only keep those countries which showed statistically signifiant relationships with at least 50% of other countris (**P < 0.05**). Also, we will only keep those categories as a whole that had at least 3 statistically significant country relationships. This brings us to the following inferences:\n",
        "\n",
        "\n",
        "> Categories (and their respective countries) that **passed** significance tests:\n",
        "* Red - Low for All Countries\n",
        "* Red - Medium for All Countries\n",
        "* Red - Premium for All Countries **except Italy, Spain, Portugal, Germany, Argentina and USA**\n",
        "* White - Low for All Countries\n",
        "* White - Medium for All Countries **except USA**\n",
        "* White - Premium for All Countries **except Australia**\n",
        "* Sparkling  -  Medium for All Countries **except France and Portugal**\n",
        "\n",
        "<br>\n",
        "\n",
        "> Categories that were fully **dismissed** due to low significance levels:\n",
        "* White - Luxury\n",
        "* Red - Luxury\n",
        "* Sparkling - Low\n",
        "* Sparkling - Premium\n",
        "* Sparkling - Luxury\n",
        "* Rose - Low\n",
        "* Rose - Medium\n",
        "* Rose - Premium\n",
        "* Rose - Luxury"
      ]
    },
    {
      "cell_type": "markdown",
      "metadata": {
        "id": "j5bdtsMN8RiB"
      },
      "source": [
        "### Filtering for Significance Tests and Saving"
      ]
    },
    {
      "cell_type": "code",
      "metadata": {
        "colab": {
          "base_uri": "https://localhost:8080/"
        },
        "id": "gAPSU4h8Ncrm",
        "outputId": "8e8b07bf-ce5e-4ca4-d388-856dd90a95f3"
      },
      "source": [
        "winedata_df.shape"
      ],
      "execution_count": 61,
      "outputs": [
        {
          "output_type": "execute_result",
          "data": {
            "text/plain": [
              "(23788, 23)"
            ]
          },
          "metadata": {
            "tags": []
          },
          "execution_count": 61
        }
      ]
    },
    {
      "cell_type": "code",
      "metadata": {
        "colab": {
          "base_uri": "https://localhost:8080/"
        },
        "id": "YB14BrXVKJB_",
        "outputId": "d43094d0-77aa-4d9a-b14d-ab2be55e8e3e"
      },
      "source": [
        "categories_to_dismiss = ['White-Luxury','Red-Luxury','Sparkling-Low', 'Sparkling-Premium','Sparkling-Luxury','Rose-Low', 'Rose-Medium', 'Rose-Premium', 'Rose-Luxury','Dessert-Medium','Dessert-Premium']\n",
        "groups_to_dismiss = ['France-Sparkling-Medium','France-Sparkling-Medium','Australia-White-Premium','Italy-Red-Premium','Germany-Red-Premium', 'Argentina-Red-Premium', 'Portugal-Red-Premium', 'Spain-Red-Premium', 'United States-White-Medium','United States-Red-Premium']\n",
        "\n",
        "winedata_df = winedata_df[~winedata_df['category'].isin(categories_to_dismiss)]\n",
        "winedata_df = winedata_df[~winedata_df['group'].isin(groups_to_dismiss)]\n",
        "\n",
        "\n",
        "winedata_df.shape"
      ],
      "execution_count": 62,
      "outputs": [
        {
          "output_type": "execute_result",
          "data": {
            "text/plain": [
              "(18518, 23)"
            ]
          },
          "metadata": {
            "tags": []
          },
          "execution_count": 62
        }
      ]
    },
    {
      "cell_type": "markdown",
      "metadata": {
        "id": "8A4jbjJfPSO1"
      },
      "source": [
        "###Saving "
      ]
    },
    {
      "cell_type": "code",
      "metadata": {
        "id": "O7wOMDbEPWKH"
      },
      "source": [
        "tested_df = winedata_df\n",
        "tested_df.to_pickle('/content/drive/My Drive/Colab Notebooks/winedata_df_after_statistically_significant_tests.pkl')"
      ],
      "execution_count": 63,
      "outputs": []
    }
  ]
}