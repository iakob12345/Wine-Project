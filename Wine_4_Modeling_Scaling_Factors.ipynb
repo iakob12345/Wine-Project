{
  "nbformat": 4,
  "nbformat_minor": 0,
  "metadata": {
    "colab": {
      "name": "Wine_4_Modeling_Scaling_Factors.ipynb",
      "provenance": [],
      "collapsed_sections": [],
      "authorship_tag": "ABX9TyNWXXibA2g40PHxnI7Mmg/n",
      "include_colab_link": true
    },
    "kernelspec": {
      "name": "python3",
      "display_name": "Python 3"
    }
  },
  "cells": [
    {
      "cell_type": "markdown",
      "metadata": {
        "id": "view-in-github",
        "colab_type": "text"
      },
      "source": [
        "<a href=\"https://colab.research.google.com/github/iakob12345/Wine-Project/blob/master/Wine_4_Modeling_Scaling_Factors.ipynb\" target=\"_parent\"><img src=\"https://colab.research.google.com/assets/colab-badge.svg\" alt=\"Open In Colab\"/></a>"
      ]
    },
    {
      "cell_type": "markdown",
      "metadata": {
        "id": "sAeZ7qKsn1y5"
      },
      "source": [
        "# **1.5 Scaling factors & Significance Tests**#\n",
        "\n",
        "---\n",
        "\n"
      ]
    },
    {
      "cell_type": "markdown",
      "metadata": {
        "id": "5KI2YOGg5Xr3"
      },
      "source": [
        "# **The problem:**\n",
        "\n",
        "So far, the rating of a bottle was simply a mean of all ratings associated to it. However, it didn't account for the sample size of reviewers that contributed to it. \n",
        "\n",
        "We believe that the truthfulness of bottle's rating is strengthened as it receives higher than average reviews compared to its category average and wekeaned if vice versa.\n",
        "\n",
        "For example, two different wines that are sold for 10 euros each and have a rating of 4.0, will both receive a value of 40 (*(4/10) * 100*) even if the first bottle was rated by 5,000 reviewers and the second by 50.\n",
        "Therefore, in this chapter, we would like to create a statistical model that rewards ratings of those wines that have high nr of reviews over low number of reviews.\n",
        "\n",
        "In other words, the idea is to scale (**$\\sigma$**) the rating_avg ($\\overline{R}$) and ultimately the Value ($V$)."
      ]
    },
    {
      "cell_type": "markdown",
      "metadata": {
        "id": "eOmNEIrQIo_7"
      },
      "source": [
        "#**Methodology of a model**\n",
        "\n",
        "## Sigmoid Scaling factors for avg Rating ($\\overline{R}$) & Value ($V$)\n",
        "\n",
        "\n",
        "To tackle this problem, we will be using a sigmoid functional form that scales the average Rating $\\overline{R}$ according to the Z-score of the number of reviews per wine ($N_{r}$) compared to average review number the category that it belongs to.\n",
        "<br> Z score is a measure of how many standard deviations below or above the population mean a raw score is.\n",
        "\n",
        "Our goal is to devalue wines that have less reviews than the population mean **more than** rewarding those wines that have above average review count.\n",
        "\n",
        "     "
      ]
    },
    {
      "cell_type": "code",
      "metadata": {
        "id": "w6sCIij9Rmvz",
        "colab": {
          "base_uri": "https://localhost:8080/",
          "height": 814
        },
        "outputId": "8daae873-f587-4d48-9b3d-853603f7e8a9"
      },
      "source": [
        "import matplotlib.pyplot as plt\n",
        "import numpy as np\n",
        "import math\n",
        "  \n",
        "\n",
        "def scaling_factor(variable):\n",
        "  scaled_factor = 5/(4 + np.exp(-variable))\n",
        "  return scaled_factor\n",
        "\n",
        "print(\"The sigmoid saling Factor will behave in the following manner: \\n\")\n",
        "z_range = [x / 2.0 for x in range(-4, 4, 1)]\n",
        "for step in z_range:\n",
        "  value = round(scaling_factor(step),1)\n",
        "  step = float(step)\n",
        "  if step < 0:\n",
        "    print(\"When the Z score is {} ---> Value Multiplier: {}\".format(step,value))\n",
        "  else:\n",
        "    print(\"When the Z score is  {} ---> Value Multiplier: {}\".format(step,value))\n",
        "\n",
        "print(\"\\n\")\n",
        "z_scores = np.linspace(-5, 5, 10000)\n",
        "plt.figure(figsize=(10,10))\n",
        "plt.plot(z_scores, scaling_factor(z_scores), color='green')\n",
        "plt.xlabel(\"Z score\")\n",
        "plt.ylabel(\"Scaled Value Multiplier\")\n",
        "plt.axvline(x=0, color = 'yellow')\n",
        "plt.axhline(y=1, color = 'yellow')\n",
        "\n",
        "plt.show()"
      ],
      "execution_count": null,
      "outputs": [
        {
          "output_type": "stream",
          "text": [
            "The sigmoid saling Factor will behave in the following manner: \n",
            "\n",
            "When the Z score is -2.0 ---> Value Multiplier: 0.4\n",
            "When the Z score is -1.5 ---> Value Multiplier: 0.6\n",
            "When the Z score is -1.0 ---> Value Multiplier: 0.7\n",
            "When the Z score is -0.5 ---> Value Multiplier: 0.9\n",
            "When the Z score is  0.0 ---> Value Multiplier: 1.0\n",
            "When the Z score is  0.5 ---> Value Multiplier: 1.1\n",
            "When the Z score is  1.0 ---> Value Multiplier: 1.1\n",
            "When the Z score is  1.5 ---> Value Multiplier: 1.2\n",
            "\n",
            "\n"
          ],
          "name": "stdout"
        },
        {
          "output_type": "display_data",
          "data": {
            "image/png": "[encoded data removed]",
            "text/plain": [
              "<Figure size 720x720 with 1 Axes>"
            ]
          },
          "metadata": {
            "tags": [],
            "needs_background": "light"
          }
        }
      ]
    },
    {
      "cell_type": "markdown",
      "metadata": {
        "id": "9HUTymULJQpt"
      },
      "source": [
        "# **Data introduction**"
      ]
    },
    {
      "cell_type": "markdown",
      "metadata": {
        "id": "9Gxaqv8C41FV"
      },
      "source": [
        "## Libraries Imported"
      ]
    },
    {
      "cell_type": "code",
      "metadata": {
        "colab": {
          "base_uri": "https://localhost:8080/"
        },
        "id": "RDrVYHTl43GU",
        "outputId": "aa4bd422-1d47-481f-aaf6-a286d73c9fe7"
      },
      "source": [
        "from google.colab import drive\n",
        "import pandas as pd\n",
        "import numpy as np\n",
        "from numpy import arange\n",
        "from scipy.stats import zscore\n",
        "from matplotlib import pyplot\n",
        "\n",
        "\n",
        "drive.mount('/content/drive/')\n",
        "path='/content/drive/My Drive/Colab Notebooks/winedata_df_after_data_wrangling.pkl'\n",
        "\n",
        "# read cvs in Pandas\n",
        "winedata_df = pd.read_pickle(path)"
      ],
      "execution_count": null,
      "outputs": [
        {
          "output_type": "stream",
          "text": [
            "Drive already mounted at /content/drive/; to attempt to forcibly remount, call drive.mount(\"/content/drive/\", force_remount=True).\n"
          ],
          "name": "stdout"
        }
      ]
    },
    {
      "cell_type": "code",
      "metadata": {
        "colab": {
          "base_uri": "https://localhost:8080/"
        },
        "id": "IOrMNDV-AiAu",
        "outputId": "b85e94fd-162b-43ef-d5a0-9c8dd5f7f950"
      },
      "source": [
        "winedata_df.shape"
      ],
      "execution_count": null,
      "outputs": [
        {
          "output_type": "execute_result",
          "data": {
            "text/plain": [
              "(24300, 16)"
            ]
          },
          "metadata": {
            "tags": []
          },
          "execution_count": 69
        }
      ]
    },
    {
      "cell_type": "markdown",
      "metadata": {
        "id": "msIKvOtzMIFR"
      },
      "source": [
        "# **Modeling**\n",
        "Firstly, we will derive mean and standard deviation of review count for each category in order to come up with a Z score for each bottle. Z score is important for Scaling Factors modeling below."
      ]
    },
    {
      "cell_type": "code",
      "metadata": {
        "id": "nrFfL0p9IpbP"
      },
      "source": [
        "# Since we are introducing review counts for each category, I will call count of reviews per wine more explicitly.\n",
        "# Also, we will rename value to 'value_origina' for the same reason\n",
        "winedata_df.rename(columns={'total_reviews':'count_reviews_per_wine','value':'value_original'},inplace=True)\n",
        "\n",
        "# Create Average number of reviews per category\n",
        "winedata_df['avg_revs_cat'] = winedata_df.groupby('category')['count_reviews_per_wine'].transform(np.mean)\n",
        "\n",
        "# Deriving standard deviation of each category\n",
        "winedata_df['std_revs_cat'] = winedata_df.groupby('category')['count_reviews_per_wine'].transform(np.std)\n",
        "\n",
        "# Deriving Z scores of each bottle per its category\n",
        "winedata_df['Zscore_count_reviews_per_wine'] = winedata_df.apply(lambda x: (x.count_reviews_per_wine - x.avg_revs_cat)/x.std_revs_cat,axis=1)\n",
        "\n",
        "### Filling NAN with Zeroes in Zscores (only one wine per category makes std=0, and undefines the Z-score) ###\n",
        "winedata_df['Zscore_count_reviews_per_wine'] = winedata_df['Zscore_count_reviews_per_wine'].fillna(0)\n"
      ],
      "execution_count": null,
      "outputs": []
    },
    {
      "cell_type": "code",
      "metadata": {
        "colab": {
          "base_uri": "https://localhost:8080/",
          "height": 609
        },
        "id": "4cwpIAuednvX",
        "outputId": "900d6d72-728d-4b44-80a4-d52bf70b3339"
      },
      "source": [
        "#Exploring the frequency table of Z scores\n",
        "winedata_df['Zscore_count_reviews_per_wine'].hist(bins=50, range=(-1.5,2.5),figsize = (10,10))\n"
      ],
      "execution_count": null,
      "outputs": [
        {
          "output_type": "execute_result",
          "data": {
            "text/plain": [
              "<matplotlib.axes._subplots.AxesSubplot at 0x7f6b3deac8d0>"
            ]
          },
          "metadata": {
            "tags": []
          },
          "execution_count": 71
        },
        {
          "output_type": "display_data",
          "data": {
            "image/png": "[encoded data removed]",
            "text/plain": [
              "<Figure size 720x720 with 1 Axes>"
            ]
          },
          "metadata": {
            "tags": [],
            "needs_background": "light"
          }
        }
      ]
    },
    {
      "cell_type": "code",
      "metadata": {
        "id": "WjKJhfleo7EL"
      },
      "source": [
        "def Z_scaling_factor(df):\n",
        "  variable = df['Zscore_count_reviews_per_wine']\n",
        "  scaled_factor = 5/(4 + np.exp(-variable))\n",
        "  return scaled_factor"
      ],
      "execution_count": null,
      "outputs": []
    },
    {
      "cell_type": "code",
      "metadata": {
        "id": "K95Z-lu_BPTc"
      },
      "source": [
        "# Calculate sigma_Z2 # value\n",
        "winedata_df['Z_scaling_factor'] = winedata_df.apply(lambda row: Z_scaling_factor(row), axis=1)\n",
        "\n",
        "# Apply Z_scaling_factor to the Average Rating \n",
        "winedata_df['R_Z_scaling_factor'] = winedata_df.apply(lambda row: row.rating_avg * row.Z_scaling_factor, axis=1)\n",
        "\n",
        "# Calculate Value_Z2 using 'R_Z_scaling_factor' and name it value_after_Z_scaling_factor#\n",
        "winedata_df['value_after_Z_scaling_factor'] = winedata_df.apply(lambda row: (row.R_Z_scaling_factor / row.price) * 100, axis=1)\n",
        "\n",
        "# renaming for a better readability\n",
        "winedata_df.rename(columns={'value_after_Z_scaling_factor':'value_scaled'},inplace=True)"
      ],
      "execution_count": null,
      "outputs": []
    },
    {
      "cell_type": "markdown",
      "metadata": {
        "id": "iXQizwm85otH"
      },
      "source": [
        "# **Results**\n"
      ]
    },
    {
      "cell_type": "code",
      "metadata": {
        "id": "i8FiauZ-20m_"
      },
      "source": [
        "winedata_df['difference_values'] = winedata_df['value_scaled'] - winedata_df['value_original']\n",
        "scaling_factor_results = winedata_df[['link','count_reviews_per_wine','avg_revs_cat','value_original','value_scaled','difference_values']]\n"
      ],
      "execution_count": null,
      "outputs": []
    },
    {
      "cell_type": "code",
      "metadata": {
        "colab": {
          "base_uri": "https://localhost:8080/",
          "height": 206
        },
        "id": "_rcunmW23NMM",
        "outputId": "0fa8aa53-ee9f-4842-bd05-e9b019b04327"
      },
      "source": [
        "# Here we see how scaling factors behaved when particular wines were under-reviewed compared to its category\n",
        "\n",
        "scaling_factor_results.sort_values(by='difference_values',ascending=True).head(5)"
      ],
      "execution_count": null,
      "outputs": [
        {
          "output_type": "execute_result",
          "data": {
            "text/html": [
              "<div>\n",
              "<style scoped>\n",
              "    .dataframe tbody tr th:only-of-type {\n",
              "        vertical-align: middle;\n",
              "    }\n",
              "\n",
              "    .dataframe tbody tr th {\n",
              "        vertical-align: top;\n",
              "    }\n",
              "\n",
              "    .dataframe thead th {\n",
              "        text-align: right;\n",
              "    }\n",
              "</style>\n",
              "<table border=\"1\" class=\"dataframe\">\n",
              "  <thead>\n",
              "    <tr style=\"text-align: right;\">\n",
              "      <th></th>\n",
              "      <th>link</th>\n",
              "      <th>count_reviews_per_wine</th>\n",
              "      <th>avg_revs_cat</th>\n",
              "      <th>value_original</th>\n",
              "      <th>value_scaled</th>\n",
              "      <th>difference_values</th>\n",
              "    </tr>\n",
              "  </thead>\n",
              "  <tbody>\n",
              "    <tr>\n",
              "      <th>61</th>\n",
              "      <td>https://www.vivino.com/sohnlein-brillant-white...</td>\n",
              "      <td>25</td>\n",
              "      <td>890.947266</td>\n",
              "      <td>92.73</td>\n",
              "      <td>83.448199</td>\n",
              "      <td>-9.281801</td>\n",
              "    </tr>\n",
              "    <tr>\n",
              "      <th>89</th>\n",
              "      <td>https://www.vivino.com/mas-janeil-rose-gc9c1/w...</td>\n",
              "      <td>25</td>\n",
              "      <td>714.814318</td>\n",
              "      <td>85.71</td>\n",
              "      <td>76.608284</td>\n",
              "      <td>-9.101716</td>\n",
              "    </tr>\n",
              "    <tr>\n",
              "      <th>10</th>\n",
              "      <td>https://www.vivino.com/romer-mosel-saar-ruwer-...</td>\n",
              "      <td>164</td>\n",
              "      <td>890.947266</td>\n",
              "      <td>106.58</td>\n",
              "      <td>97.789856</td>\n",
              "      <td>-8.790144</td>\n",
              "    </tr>\n",
              "    <tr>\n",
              "      <th>212</th>\n",
              "      <td>https://www.vivino.com/san-marzano-i-tratturi-...</td>\n",
              "      <td>26</td>\n",
              "      <td>714.814318</td>\n",
              "      <td>80.00</td>\n",
              "      <td>71.514842</td>\n",
              "      <td>-8.485158</td>\n",
              "    </tr>\n",
              "    <tr>\n",
              "      <th>18</th>\n",
              "      <td>https://www.vivino.com/faber-82953-sekt-rot-mi...</td>\n",
              "      <td>46</td>\n",
              "      <td>890.947266</td>\n",
              "      <td>85.71</td>\n",
              "      <td>77.364373</td>\n",
              "      <td>-8.345627</td>\n",
              "    </tr>\n",
              "  </tbody>\n",
              "</table>\n",
              "</div>"
            ],
            "text/plain": [
              "                                                  link  ...  difference_values\n",
              "61   https://www.vivino.com/sohnlein-brillant-white...  ...          -9.281801\n",
              "89   https://www.vivino.com/mas-janeil-rose-gc9c1/w...  ...          -9.101716\n",
              "10   https://www.vivino.com/romer-mosel-saar-ruwer-...  ...          -8.790144\n",
              "212  https://www.vivino.com/san-marzano-i-tratturi-...  ...          -8.485158\n",
              "18   https://www.vivino.com/faber-82953-sekt-rot-mi...  ...          -8.345627\n",
              "\n",
              "[5 rows x 6 columns]"
            ]
          },
          "metadata": {
            "tags": []
          },
          "execution_count": 75
        }
      ]
    },
    {
      "cell_type": "code",
      "metadata": {
        "colab": {
          "base_uri": "https://localhost:8080/",
          "height": 206
        },
        "id": "r1Dx7ADjzjG_",
        "outputId": "65439c5b-7d1f-471f-cd56-fc4d38673c99"
      },
      "source": [
        "# Here we see how scaling factors behaved when particular wines were more reviewed than its category as a whole\n",
        "\n",
        "scaling_factor_results.sort_values(by='difference_values',ascending=False).head(5)"
      ],
      "execution_count": null,
      "outputs": [
        {
          "output_type": "execute_result",
          "data": {
            "text/html": [
              "<div>\n",
              "<style scoped>\n",
              "    .dataframe tbody tr th:only-of-type {\n",
              "        vertical-align: middle;\n",
              "    }\n",
              "\n",
              "    .dataframe tbody tr th {\n",
              "        vertical-align: top;\n",
              "    }\n",
              "\n",
              "    .dataframe thead th {\n",
              "        text-align: right;\n",
              "    }\n",
              "</style>\n",
              "<table border=\"1\" class=\"dataframe\">\n",
              "  <thead>\n",
              "    <tr style=\"text-align: right;\">\n",
              "      <th></th>\n",
              "      <th>link</th>\n",
              "      <th>count_reviews_per_wine</th>\n",
              "      <th>avg_revs_cat</th>\n",
              "      <th>value_original</th>\n",
              "      <th>value_scaled</th>\n",
              "      <th>difference_values</th>\n",
              "    </tr>\n",
              "  </thead>\n",
              "  <tbody>\n",
              "    <tr>\n",
              "      <th>42</th>\n",
              "      <td>https://www.vivino.com/riunite-lambrusco-emili...</td>\n",
              "      <td>15045</td>\n",
              "      <td>691.690859</td>\n",
              "      <td>99.48</td>\n",
              "      <td>124.318137</td>\n",
              "      <td>24.838137</td>\n",
              "    </tr>\n",
              "    <tr>\n",
              "      <th>43</th>\n",
              "      <td>https://www.vivino.com/gazela-vinho-verde-bran...</td>\n",
              "      <td>9354</td>\n",
              "      <td>358.161864</td>\n",
              "      <td>90.91</td>\n",
              "      <td>113.514481</td>\n",
              "      <td>22.604481</td>\n",
              "    </tr>\n",
              "    <tr>\n",
              "      <th>74</th>\n",
              "      <td>https://www.vivino.com/pt-borges-gatao-vinho-v...</td>\n",
              "      <td>6309</td>\n",
              "      <td>358.161864</td>\n",
              "      <td>87.50</td>\n",
              "      <td>108.636941</td>\n",
              "      <td>21.136941</td>\n",
              "    </tr>\n",
              "    <tr>\n",
              "      <th>213</th>\n",
              "      <td>https://www.vivino.com/vigneti-del-salento-pri...</td>\n",
              "      <td>7226</td>\n",
              "      <td>691.690859</td>\n",
              "      <td>80.00</td>\n",
              "      <td>98.993108</td>\n",
              "      <td>18.993108</td>\n",
              "    </tr>\n",
              "    <tr>\n",
              "      <th>120</th>\n",
              "      <td>https://www.vivino.com/lacheteau-rose-d-anjou/...</td>\n",
              "      <td>3556</td>\n",
              "      <td>714.814318</td>\n",
              "      <td>87.56</td>\n",
              "      <td>105.581865</td>\n",
              "      <td>18.021865</td>\n",
              "    </tr>\n",
              "  </tbody>\n",
              "</table>\n",
              "</div>"
            ],
            "text/plain": [
              "                                                  link  ...  difference_values\n",
              "42   https://www.vivino.com/riunite-lambrusco-emili...  ...          24.838137\n",
              "43   https://www.vivino.com/gazela-vinho-verde-bran...  ...          22.604481\n",
              "74   https://www.vivino.com/pt-borges-gatao-vinho-v...  ...          21.136941\n",
              "213  https://www.vivino.com/vigneti-del-salento-pri...  ...          18.993108\n",
              "120  https://www.vivino.com/lacheteau-rose-d-anjou/...  ...          18.021865\n",
              "\n",
              "[5 rows x 6 columns]"
            ]
          },
          "metadata": {
            "tags": []
          },
          "execution_count": 76
        }
      ]
    },
    {
      "cell_type": "code",
      "metadata": {
        "colab": {
          "base_uri": "https://localhost:8080/",
          "height": 592
        },
        "id": "DKa48War1sCr",
        "outputId": "b1da2cf9-3553-4ddf-aae7-1590e5a7b515"
      },
      "source": [
        "x = scaling_factor_results['value_original']\n",
        "y = scaling_factor_results['value_scaled']\n",
        "\n",
        "bins = np.linspace(0, 125, 100)\n",
        "\n",
        "pyplot.figure(figsize=(10,10))\n",
        "pyplot.hist(x, bins, alpha=0.5, label='value_original',color='orange')\n",
        "pyplot.hist(y, bins, alpha=0.5, label='value_scaled',color='green')\n",
        "pyplot.legend(loc='upper right')\n",
        "pyplot.show()\n",
        "\n",
        "#dark green represents that values were kept the same\n",
        "#yellow represents that values dropped\n",
        "#light green represents that values increased"
      ],
      "execution_count": null,
      "outputs": [
        {
          "output_type": "display_data",
          "data": {
            "image/png": "[encoded data removed]",
            "text/plain": [
              "<Figure size 720x720 with 1 Axes>"
            ]
          },
          "metadata": {
            "tags": [],
            "needs_background": "light"
          }
        }
      ]
    },
    {
      "cell_type": "markdown",
      "metadata": {
        "id": "1voXKbrP5vV9"
      },
      "source": [
        "# **Inferences**\n",
        "Above Frequency Table as well as granular inspection wine sample confirm what we intended to achieve - we wanted to reward highly reviewed wines and vice versa: penalise less reviewed wines, but not to the extent that overall distribution changed. Here, we see that the dataset is still right skewed and the modifications played a refinement purpose as opposed to completely altering the value proposition. \n",
        "With this in mind, in the later stages, we will be using field 'value_after_Z_scaling_factor' as the ultimate value identifier field."
      ]
    },
    {
      "cell_type": "markdown",
      "metadata": {
        "id": "53vujpKNAUZR"
      },
      "source": [
        "# **Save Scaled Data**"
      ]
    },
    {
      "cell_type": "code",
      "metadata": {
        "colab": {
          "base_uri": "https://localhost:8080/"
        },
        "id": "LWBf_vEIAlgW",
        "outputId": "1c40b037-8372-47e6-b34a-bdf9c6ecac84"
      },
      "source": [
        "winedata_df.shape"
      ],
      "execution_count": null,
      "outputs": [
        {
          "output_type": "execute_result",
          "data": {
            "text/plain": [
              "(24300, 23)"
            ]
          },
          "metadata": {
            "tags": []
          },
          "execution_count": 78
        }
      ]
    },
    {
      "cell_type": "code",
      "metadata": {
        "id": "pcV9mcdgAtPR"
      },
      "source": [
        "## Clean dataframe and make local copy ##\n",
        "scaled_df = winedata_df\n",
        "### clean_db saved as pickle\n",
        "scaled_df.to_pickle('/content/drive/My Drive/Colab Notebooks/winedata_df_after_scaling_factor.pkl')"
      ],
      "execution_count": null,
      "outputs": []
    }
  ]
}